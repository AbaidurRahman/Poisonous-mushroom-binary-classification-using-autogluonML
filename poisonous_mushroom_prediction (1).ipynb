{
 "cells": [
  {
   "cell_type": "code",
   "execution_count": 1,
   "metadata": {
    "colab": {
     "base_uri": "https://localhost:8080/"
    },
    "id": "C4gNyBd5_3GC",
    "outputId": "b30a7043-489d-4f0e-9019-a53a8d841f52"
   },
   "outputs": [
    {
     "name": "stdout",
     "output_type": "stream",
     "text": [
      "Drive already mounted at /content/drive; to attempt to forcibly remount, call drive.mount(\"/content/drive\", force_remount=True).\n"
     ]
    }
   ],
   "source": [
    "#from google.colab import drive\n",
    "#drive.mount('/content/drive')"
   ]
  },
  {
   "cell_type": "code",
   "execution_count": 6,
   "metadata": {},
   "outputs": [
    {
     "name": "stdout",
     "output_type": "stream",
     "text": [
      "Requirement already satisfied: lightgbm in c:\\users\\adilh\\anaconda3\\lib\\site-packages (4.5.0)\n",
      "Requirement already satisfied: numpy>=1.17.0 in c:\\users\\adilh\\anaconda3\\lib\\site-packages (from lightgbm) (1.24.3)\n",
      "Requirement already satisfied: scipy in c:\\users\\adilh\\anaconda3\\lib\\site-packages (from lightgbm) (1.10.1)\n",
      "Note: you may need to restart the kernel to use updated packages.\n"
     ]
    }
   ],
   "source": [
    "pip install --upgrade lightgbm"
   ]
  },
  {
   "cell_type": "code",
   "execution_count": 2,
   "metadata": {
    "colab": {
     "base_uri": "https://localhost:8080/"
    },
    "collapsed": true,
    "id": "IeWVGlXQog70",
    "outputId": "83949c3c-694f-43ed-9929-12f40af8878e"
   },
   "outputs": [
    {
     "name": "stdout",
     "output_type": "stream",
     "text": [
      "Requirement already satisfied: autogluon in /usr/local/lib/python3.10/dist-packages (1.1.1)\n",
      "Requirement already satisfied: autogluon.core==1.1.1 in /usr/local/lib/python3.10/dist-packages (from autogluon.core[all]==1.1.1->autogluon) (1.1.1)\n",
      "Requirement already satisfied: autogluon.features==1.1.1 in /usr/local/lib/python3.10/dist-packages (from autogluon) (1.1.1)\n",
      "Requirement already satisfied: autogluon.tabular==1.1.1 in /usr/local/lib/python3.10/dist-packages (from autogluon.tabular[all]==1.1.1->autogluon) (1.1.1)\n",
      "Requirement already satisfied: autogluon.multimodal==1.1.1 in /usr/local/lib/python3.10/dist-packages (from autogluon) (1.1.1)\n",
      "Requirement already satisfied: autogluon.timeseries==1.1.1 in /usr/local/lib/python3.10/dist-packages (from autogluon.timeseries[all]==1.1.1->autogluon) (1.1.1)\n",
      "Requirement already satisfied: numpy<1.29,>=1.21 in /usr/local/lib/python3.10/dist-packages (from autogluon.core==1.1.1->autogluon.core[all]==1.1.1->autogluon) (1.26.4)\n",
      "Requirement already satisfied: scipy<1.13,>=1.5.4 in /usr/local/lib/python3.10/dist-packages (from autogluon.core==1.1.1->autogluon.core[all]==1.1.1->autogluon) (1.12.0)\n",
      "Requirement already satisfied: scikit-learn<1.4.1,>=1.3.0 in /usr/local/lib/python3.10/dist-packages (from autogluon.core==1.1.1->autogluon.core[all]==1.1.1->autogluon) (1.3.2)\n",
      "Requirement already satisfied: networkx<4,>=3.0 in /usr/local/lib/python3.10/dist-packages (from autogluon.core==1.1.1->autogluon.core[all]==1.1.1->autogluon) (3.3)\n",
      "Requirement already satisfied: pandas<2.3.0,>=2.0.0 in /usr/local/lib/python3.10/dist-packages (from autogluon.core==1.1.1->autogluon.core[all]==1.1.1->autogluon) (2.1.4)\n",
      "Requirement already satisfied: tqdm<5,>=4.38 in /usr/local/lib/python3.10/dist-packages (from autogluon.core==1.1.1->autogluon.core[all]==1.1.1->autogluon) (4.66.5)\n",
      "Requirement already satisfied: requests in /usr/local/lib/python3.10/dist-packages (from autogluon.core==1.1.1->autogluon.core[all]==1.1.1->autogluon) (2.32.3)\n",
      "Requirement already satisfied: matplotlib in /usr/local/lib/python3.10/dist-packages (from autogluon.core==1.1.1->autogluon.core[all]==1.1.1->autogluon) (3.7.1)\n",
      "Requirement already satisfied: boto3<2,>=1.10 in /usr/local/lib/python3.10/dist-packages (from autogluon.core==1.1.1->autogluon.core[all]==1.1.1->autogluon) (1.35.0)\n",
      "Requirement already satisfied: autogluon.common==1.1.1 in /usr/local/lib/python3.10/dist-packages (from autogluon.core==1.1.1->autogluon.core[all]==1.1.1->autogluon) (1.1.1)\n",
      "Requirement already satisfied: ray<2.11,>=2.10.0 in /usr/local/lib/python3.10/dist-packages (from ray[default,tune]<2.11,>=2.10.0; extra == \"all\"->autogluon.core[all]==1.1.1->autogluon) (2.10.0)\n",
      "Requirement already satisfied: hyperopt<0.2.8,>=0.2.7 in /usr/local/lib/python3.10/dist-packages (from autogluon.core[all]==1.1.1->autogluon) (0.2.7)\n",
      "Requirement already satisfied: Pillow<11,>=10.0.1 in /usr/local/lib/python3.10/dist-packages (from autogluon.multimodal==1.1.1->autogluon) (10.4.0)\n",
      "Requirement already satisfied: torch<2.4,>=2.2 in /usr/local/lib/python3.10/dist-packages (from autogluon.multimodal==1.1.1->autogluon) (2.3.1+cu121)\n",
      "Requirement already satisfied: lightning<2.4,>=2.2 in /usr/local/lib/python3.10/dist-packages (from autogluon.multimodal==1.1.1->autogluon) (2.3.3)\n",
      "Requirement already satisfied: transformers<4.41.0,>=4.38.0 in /usr/local/lib/python3.10/dist-packages (from transformers[sentencepiece]<4.41.0,>=4.38.0->autogluon.multimodal==1.1.1->autogluon) (4.39.3)\n",
      "Requirement already satisfied: accelerate<0.22.0,>=0.21.0 in /usr/local/lib/python3.10/dist-packages (from autogluon.multimodal==1.1.1->autogluon) (0.21.0)\n",
      "Requirement already satisfied: jsonschema<4.22,>=4.18 in /usr/local/lib/python3.10/dist-packages (from autogluon.multimodal==1.1.1->autogluon) (4.21.1)\n",
      "Requirement already satisfied: seqeval<1.3.0,>=1.2.2 in /usr/local/lib/python3.10/dist-packages (from autogluon.multimodal==1.1.1->autogluon) (1.2.2)\n",
      "Requirement already satisfied: evaluate<0.5.0,>=0.4.0 in /usr/local/lib/python3.10/dist-packages (from autogluon.multimodal==1.1.1->autogluon) (0.4.2)\n",
      "Requirement already satisfied: timm<0.10.0,>=0.9.5 in /usr/local/lib/python3.10/dist-packages (from autogluon.multimodal==1.1.1->autogluon) (0.9.16)\n",
      "Requirement already satisfied: torchvision<0.19.0,>=0.16.0 in /usr/local/lib/python3.10/dist-packages (from autogluon.multimodal==1.1.1->autogluon) (0.18.1+cu121)\n",
      "Requirement already satisfied: scikit-image<0.21.0,>=0.19.1 in /usr/local/lib/python3.10/dist-packages (from autogluon.multimodal==1.1.1->autogluon) (0.20.0)\n",
      "Requirement already satisfied: text-unidecode<1.4,>=1.3 in /usr/local/lib/python3.10/dist-packages (from autogluon.multimodal==1.1.1->autogluon) (1.3)\n",
      "Requirement already satisfied: torchmetrics<1.3.0,>=1.2.0 in /usr/local/lib/python3.10/dist-packages (from autogluon.multimodal==1.1.1->autogluon) (1.2.1)\n",
      "Requirement already satisfied: nptyping<2.5.0,>=1.4.4 in /usr/local/lib/python3.10/dist-packages (from autogluon.multimodal==1.1.1->autogluon) (2.4.1)\n",
      "Requirement already satisfied: omegaconf<2.3.0,>=2.1.1 in /usr/local/lib/python3.10/dist-packages (from autogluon.multimodal==1.1.1->autogluon) (2.2.3)\n",
      "Requirement already satisfied: pytorch-metric-learning<2.4,>=1.3.0 in /usr/local/lib/python3.10/dist-packages (from autogluon.multimodal==1.1.1->autogluon) (2.3.0)\n",
      "Requirement already satisfied: nlpaug<1.2.0,>=1.1.10 in /usr/local/lib/python3.10/dist-packages (from autogluon.multimodal==1.1.1->autogluon) (1.1.11)\n",
      "Requirement already satisfied: nltk<4.0.0,>=3.4.5 in /usr/local/lib/python3.10/dist-packages (from autogluon.multimodal==1.1.1->autogluon) (3.8.1)\n",
      "Requirement already satisfied: openmim<0.4.0,>=0.3.7 in /usr/local/lib/python3.10/dist-packages (from autogluon.multimodal==1.1.1->autogluon) (0.3.9)\n",
      "Requirement already satisfied: defusedxml<0.7.2,>=0.7.1 in /usr/local/lib/python3.10/dist-packages (from autogluon.multimodal==1.1.1->autogluon) (0.7.1)\n",
      "Requirement already satisfied: jinja2<3.2,>=3.0.3 in /usr/local/lib/python3.10/dist-packages (from autogluon.multimodal==1.1.1->autogluon) (3.1.4)\n",
      "Requirement already satisfied: tensorboard<3,>=2.9 in /usr/local/lib/python3.10/dist-packages (from autogluon.multimodal==1.1.1->autogluon) (2.17.0)\n",
      "Requirement already satisfied: pytesseract<0.3.11,>=0.3.9 in /usr/local/lib/python3.10/dist-packages (from autogluon.multimodal==1.1.1->autogluon) (0.3.10)\n",
      "Requirement already satisfied: nvidia-ml-py3==7.352.0 in /usr/local/lib/python3.10/dist-packages (from autogluon.multimodal==1.1.1->autogluon) (7.352.0)\n",
      "Requirement already satisfied: pdf2image<1.19,>=1.17.0 in /usr/local/lib/python3.10/dist-packages (from autogluon.multimodal==1.1.1->autogluon) (1.17.0)\n",
      "Requirement already satisfied: xgboost<2.1,>=1.6 in /usr/local/lib/python3.10/dist-packages (from autogluon.tabular[all]==1.1.1->autogluon) (2.0.3)\n",
      "Requirement already satisfied: fastai<2.8,>=2.3.1 in /usr/local/lib/python3.10/dist-packages (from autogluon.tabular[all]==1.1.1->autogluon) (2.7.16)\n",
      "Requirement already satisfied: lightgbm<4.4,>=3.3 in /usr/local/lib/python3.10/dist-packages (from autogluon.tabular[all]==1.1.1->autogluon) (4.3.0)\n",
      "Requirement already satisfied: catboost<1.3,>=1.1 in /usr/local/lib/python3.10/dist-packages (from autogluon.tabular[all]==1.1.1->autogluon) (1.2.5)\n",
      "Requirement already satisfied: joblib<2,>=1.1 in /usr/local/lib/python3.10/dist-packages (from autogluon.timeseries==1.1.1->autogluon.timeseries[all]==1.1.1->autogluon) (1.4.2)\n",
      "Requirement already satisfied: pytorch-lightning<2.4,>=2.2 in /usr/local/lib/python3.10/dist-packages (from autogluon.timeseries==1.1.1->autogluon.timeseries[all]==1.1.1->autogluon) (2.3.3)\n",
      "Requirement already satisfied: gluonts==0.15.1 in /usr/local/lib/python3.10/dist-packages (from autogluon.timeseries==1.1.1->autogluon.timeseries[all]==1.1.1->autogluon) (0.15.1)\n",
      "Requirement already satisfied: statsforecast<1.5,>=1.4.0 in /usr/local/lib/python3.10/dist-packages (from autogluon.timeseries==1.1.1->autogluon.timeseries[all]==1.1.1->autogluon) (1.4.0)\n",
      "Requirement already satisfied: mlforecast<0.10.1,>=0.10.0 in /usr/local/lib/python3.10/dist-packages (from autogluon.timeseries==1.1.1->autogluon.timeseries[all]==1.1.1->autogluon) (0.10.0)\n",
      "Requirement already satisfied: utilsforecast<0.0.11,>=0.0.10 in /usr/local/lib/python3.10/dist-packages (from autogluon.timeseries==1.1.1->autogluon.timeseries[all]==1.1.1->autogluon) (0.0.10)\n",
      "Requirement already satisfied: orjson~=3.9 in /usr/local/lib/python3.10/dist-packages (from autogluon.timeseries==1.1.1->autogluon.timeseries[all]==1.1.1->autogluon) (3.10.7)\n",
      "Requirement already satisfied: optimum<1.19,>=1.17 in /usr/local/lib/python3.10/dist-packages (from optimum[onnxruntime]<1.19,>=1.17; extra == \"all\"->autogluon.timeseries[all]==1.1.1->autogluon) (1.18.1)\n",
      "Requirement already satisfied: psutil<6,>=5.7.3 in /usr/local/lib/python3.10/dist-packages (from autogluon.common==1.1.1->autogluon.core==1.1.1->autogluon.core[all]==1.1.1->autogluon) (5.9.5)\n",
      "Requirement already satisfied: setuptools in /usr/local/lib/python3.10/dist-packages (from autogluon.common==1.1.1->autogluon.core==1.1.1->autogluon.core[all]==1.1.1->autogluon) (71.0.4)\n",
      "Requirement already satisfied: pydantic<3,>=1.7 in /usr/local/lib/python3.10/dist-packages (from gluonts==0.15.1->autogluon.timeseries==1.1.1->autogluon.timeseries[all]==1.1.1->autogluon) (2.8.2)\n",
      "Requirement already satisfied: toolz~=0.10 in /usr/local/lib/python3.10/dist-packages (from gluonts==0.15.1->autogluon.timeseries==1.1.1->autogluon.timeseries[all]==1.1.1->autogluon) (0.12.1)\n",
      "Requirement already satisfied: typing-extensions~=4.0 in /usr/local/lib/python3.10/dist-packages (from gluonts==0.15.1->autogluon.timeseries==1.1.1->autogluon.timeseries[all]==1.1.1->autogluon) (4.12.2)\n",
      "Requirement already satisfied: packaging>=20.0 in /usr/local/lib/python3.10/dist-packages (from accelerate<0.22.0,>=0.21.0->autogluon.multimodal==1.1.1->autogluon) (24.1)\n",
      "Requirement already satisfied: pyyaml in /usr/local/lib/python3.10/dist-packages (from accelerate<0.22.0,>=0.21.0->autogluon.multimodal==1.1.1->autogluon) (6.0.2)\n",
      "Requirement already satisfied: botocore<1.36.0,>=1.35.0 in /usr/local/lib/python3.10/dist-packages (from boto3<2,>=1.10->autogluon.core==1.1.1->autogluon.core[all]==1.1.1->autogluon) (1.35.0)\n",
      "Requirement already satisfied: jmespath<2.0.0,>=0.7.1 in /usr/local/lib/python3.10/dist-packages (from boto3<2,>=1.10->autogluon.core==1.1.1->autogluon.core[all]==1.1.1->autogluon) (1.0.1)\n",
      "Requirement already satisfied: s3transfer<0.11.0,>=0.10.0 in /usr/local/lib/python3.10/dist-packages (from boto3<2,>=1.10->autogluon.core==1.1.1->autogluon.core[all]==1.1.1->autogluon) (0.10.2)\n",
      "Requirement already satisfied: graphviz in /usr/local/lib/python3.10/dist-packages (from catboost<1.3,>=1.1->autogluon.tabular[all]==1.1.1->autogluon) (0.20.3)\n",
      "Requirement already satisfied: plotly in /usr/local/lib/python3.10/dist-packages (from catboost<1.3,>=1.1->autogluon.tabular[all]==1.1.1->autogluon) (5.15.0)\n",
      "Requirement already satisfied: six in /usr/local/lib/python3.10/dist-packages (from catboost<1.3,>=1.1->autogluon.tabular[all]==1.1.1->autogluon) (1.16.0)\n",
      "Requirement already satisfied: datasets>=2.0.0 in /usr/local/lib/python3.10/dist-packages (from evaluate<0.5.0,>=0.4.0->autogluon.multimodal==1.1.1->autogluon) (2.21.0)\n",
      "Requirement already satisfied: dill in /usr/local/lib/python3.10/dist-packages (from evaluate<0.5.0,>=0.4.0->autogluon.multimodal==1.1.1->autogluon) (0.3.8)\n",
      "Requirement already satisfied: xxhash in /usr/local/lib/python3.10/dist-packages (from evaluate<0.5.0,>=0.4.0->autogluon.multimodal==1.1.1->autogluon) (3.4.1)\n",
      "Requirement already satisfied: multiprocess in /usr/local/lib/python3.10/dist-packages (from evaluate<0.5.0,>=0.4.0->autogluon.multimodal==1.1.1->autogluon) (0.70.16)\n",
      "Requirement already satisfied: fsspec>=2021.05.0 in /usr/local/lib/python3.10/dist-packages (from fsspec[http]>=2021.05.0->evaluate<0.5.0,>=0.4.0->autogluon.multimodal==1.1.1->autogluon) (2024.6.1)\n",
      "Requirement already satisfied: huggingface-hub>=0.7.0 in /usr/local/lib/python3.10/dist-packages (from evaluate<0.5.0,>=0.4.0->autogluon.multimodal==1.1.1->autogluon) (0.23.5)\n",
      "Requirement already satisfied: pip in /usr/local/lib/python3.10/dist-packages (from fastai<2.8,>=2.3.1->autogluon.tabular[all]==1.1.1->autogluon) (24.1.2)\n",
      "Requirement already satisfied: fastdownload<2,>=0.0.5 in /usr/local/lib/python3.10/dist-packages (from fastai<2.8,>=2.3.1->autogluon.tabular[all]==1.1.1->autogluon) (0.0.7)\n",
      "Requirement already satisfied: fastcore<1.6,>=1.5.29 in /usr/local/lib/python3.10/dist-packages (from fastai<2.8,>=2.3.1->autogluon.tabular[all]==1.1.1->autogluon) (1.5.55)\n",
      "Requirement already satisfied: fastprogress>=0.2.4 in /usr/local/lib/python3.10/dist-packages (from fastai<2.8,>=2.3.1->autogluon.tabular[all]==1.1.1->autogluon) (1.0.3)\n",
      "Requirement already satisfied: spacy<4 in /usr/local/lib/python3.10/dist-packages (from fastai<2.8,>=2.3.1->autogluon.tabular[all]==1.1.1->autogluon) (3.7.5)\n",
      "Requirement already satisfied: future in /usr/local/lib/python3.10/dist-packages (from hyperopt<0.2.8,>=0.2.7->autogluon.core[all]==1.1.1->autogluon) (1.0.0)\n",
      "Requirement already satisfied: cloudpickle in /usr/local/lib/python3.10/dist-packages (from hyperopt<0.2.8,>=0.2.7->autogluon.core[all]==1.1.1->autogluon) (2.2.1)\n",
      "Requirement already satisfied: py4j in /usr/local/lib/python3.10/dist-packages (from hyperopt<0.2.8,>=0.2.7->autogluon.core[all]==1.1.1->autogluon) (0.10.9.7)\n",
      "Requirement already satisfied: MarkupSafe>=2.0 in /usr/local/lib/python3.10/dist-packages (from jinja2<3.2,>=3.0.3->autogluon.multimodal==1.1.1->autogluon) (2.1.5)\n",
      "Requirement already satisfied: attrs>=22.2.0 in /usr/local/lib/python3.10/dist-packages (from jsonschema<4.22,>=4.18->autogluon.multimodal==1.1.1->autogluon) (24.2.0)\n",
      "Requirement already satisfied: jsonschema-specifications>=2023.03.6 in /usr/local/lib/python3.10/dist-packages (from jsonschema<4.22,>=4.18->autogluon.multimodal==1.1.1->autogluon) (2023.12.1)\n",
      "Requirement already satisfied: referencing>=0.28.4 in /usr/local/lib/python3.10/dist-packages (from jsonschema<4.22,>=4.18->autogluon.multimodal==1.1.1->autogluon) (0.35.1)\n",
      "Requirement already satisfied: rpds-py>=0.7.1 in /usr/local/lib/python3.10/dist-packages (from jsonschema<4.22,>=4.18->autogluon.multimodal==1.1.1->autogluon) (0.20.0)\n",
      "Requirement already satisfied: lightning-utilities<2.0,>=0.10.0 in /usr/local/lib/python3.10/dist-packages (from lightning<2.4,>=2.2->autogluon.multimodal==1.1.1->autogluon) (0.11.6)\n",
      "Requirement already satisfied: numba in /usr/local/lib/python3.10/dist-packages (from mlforecast<0.10.1,>=0.10.0->autogluon.timeseries==1.1.1->autogluon.timeseries[all]==1.1.1->autogluon) (0.60.0)\n",
      "Requirement already satisfied: window-ops in /usr/local/lib/python3.10/dist-packages (from mlforecast<0.10.1,>=0.10.0->autogluon.timeseries==1.1.1->autogluon.timeseries[all]==1.1.1->autogluon) (0.0.15)\n",
      "Requirement already satisfied: gdown>=4.0.0 in /usr/local/lib/python3.10/dist-packages (from nlpaug<1.2.0,>=1.1.10->autogluon.multimodal==1.1.1->autogluon) (5.1.0)\n",
      "Requirement already satisfied: click in /usr/local/lib/python3.10/dist-packages (from nltk<4.0.0,>=3.4.5->autogluon.multimodal==1.1.1->autogluon) (8.1.7)\n",
      "Requirement already satisfied: regex>=2021.8.3 in /usr/local/lib/python3.10/dist-packages (from nltk<4.0.0,>=3.4.5->autogluon.multimodal==1.1.1->autogluon) (2024.5.15)\n",
      "Requirement already satisfied: antlr4-python3-runtime==4.9.* in /usr/local/lib/python3.10/dist-packages (from omegaconf<2.3.0,>=2.1.1->autogluon.multimodal==1.1.1->autogluon) (4.9.3)\n",
      "Requirement already satisfied: colorama in /usr/local/lib/python3.10/dist-packages (from openmim<0.4.0,>=0.3.7->autogluon.multimodal==1.1.1->autogluon) (0.4.6)\n",
      "Requirement already satisfied: model-index in /usr/local/lib/python3.10/dist-packages (from openmim<0.4.0,>=0.3.7->autogluon.multimodal==1.1.1->autogluon) (0.1.11)\n",
      "Requirement already satisfied: opendatalab in /usr/local/lib/python3.10/dist-packages (from openmim<0.4.0,>=0.3.7->autogluon.multimodal==1.1.1->autogluon) (0.0.10)\n",
      "Requirement already satisfied: rich in /usr/local/lib/python3.10/dist-packages (from openmim<0.4.0,>=0.3.7->autogluon.multimodal==1.1.1->autogluon) (13.7.1)\n",
      "Requirement already satisfied: tabulate in /usr/local/lib/python3.10/dist-packages (from openmim<0.4.0,>=0.3.7->autogluon.multimodal==1.1.1->autogluon) (0.9.0)\n",
      "Requirement already satisfied: coloredlogs in /usr/local/lib/python3.10/dist-packages (from optimum<1.19,>=1.17->optimum[onnxruntime]<1.19,>=1.17; extra == \"all\"->autogluon.timeseries[all]==1.1.1->autogluon) (15.0.1)\n",
      "Requirement already satisfied: sympy in /usr/local/lib/python3.10/dist-packages (from optimum<1.19,>=1.17->optimum[onnxruntime]<1.19,>=1.17; extra == \"all\"->autogluon.timeseries[all]==1.1.1->autogluon) (1.13.1)\n",
      "Requirement already satisfied: onnx in /usr/local/lib/python3.10/dist-packages (from optimum[onnxruntime]<1.19,>=1.17; extra == \"all\"->autogluon.timeseries[all]==1.1.1->autogluon) (1.16.2)\n",
      "Requirement already satisfied: onnxruntime>=1.11.0 in /usr/local/lib/python3.10/dist-packages (from optimum[onnxruntime]<1.19,>=1.17; extra == \"all\"->autogluon.timeseries[all]==1.1.1->autogluon) (1.19.0)\n",
      "Requirement already satisfied: protobuf>=3.20.1 in /usr/local/lib/python3.10/dist-packages (from optimum[onnxruntime]<1.19,>=1.17; extra == \"all\"->autogluon.timeseries[all]==1.1.1->autogluon) (3.20.3)\n",
      "Requirement already satisfied: python-dateutil>=2.8.2 in /usr/local/lib/python3.10/dist-packages (from pandas<2.3.0,>=2.0.0->autogluon.core==1.1.1->autogluon.core[all]==1.1.1->autogluon) (2.8.2)\n",
      "Requirement already satisfied: pytz>=2020.1 in /usr/local/lib/python3.10/dist-packages (from pandas<2.3.0,>=2.0.0->autogluon.core==1.1.1->autogluon.core[all]==1.1.1->autogluon) (2024.1)\n",
      "Requirement already satisfied: tzdata>=2022.1 in /usr/local/lib/python3.10/dist-packages (from pandas<2.3.0,>=2.0.0->autogluon.core==1.1.1->autogluon.core[all]==1.1.1->autogluon) (2024.1)\n",
      "Requirement already satisfied: filelock in /usr/local/lib/python3.10/dist-packages (from ray<2.11,>=2.10.0->ray[default,tune]<2.11,>=2.10.0; extra == \"all\"->autogluon.core[all]==1.1.1->autogluon) (3.15.4)\n",
      "Requirement already satisfied: msgpack<2.0.0,>=1.0.0 in /usr/local/lib/python3.10/dist-packages (from ray<2.11,>=2.10.0->ray[default,tune]<2.11,>=2.10.0; extra == \"all\"->autogluon.core[all]==1.1.1->autogluon) (1.0.8)\n",
      "Requirement already satisfied: aiosignal in /usr/local/lib/python3.10/dist-packages (from ray<2.11,>=2.10.0->ray[default,tune]<2.11,>=2.10.0; extra == \"all\"->autogluon.core[all]==1.1.1->autogluon) (1.3.1)\n",
      "Requirement already satisfied: frozenlist in /usr/local/lib/python3.10/dist-packages (from ray<2.11,>=2.10.0->ray[default,tune]<2.11,>=2.10.0; extra == \"all\"->autogluon.core[all]==1.1.1->autogluon) (1.4.1)\n",
      "Requirement already satisfied: tensorboardX>=1.9 in /usr/local/lib/python3.10/dist-packages (from ray[default,tune]<2.11,>=2.10.0; extra == \"all\"->autogluon.core[all]==1.1.1->autogluon) (2.6.2.2)\n",
      "Requirement already satisfied: pyarrow>=6.0.1 in /usr/local/lib/python3.10/dist-packages (from ray[default,tune]<2.11,>=2.10.0; extra == \"all\"->autogluon.core[all]==1.1.1->autogluon) (17.0.0)\n",
      "Requirement already satisfied: aiohttp>=3.7 in /usr/local/lib/python3.10/dist-packages (from ray[default,tune]<2.11,>=2.10.0; extra == \"all\"->autogluon.core[all]==1.1.1->autogluon) (3.10.2)\n",
      "Requirement already satisfied: aiohttp-cors in /usr/local/lib/python3.10/dist-packages (from ray[default,tune]<2.11,>=2.10.0; extra == \"all\"->autogluon.core[all]==1.1.1->autogluon) (0.7.0)\n",
      "Requirement already satisfied: colorful in /usr/local/lib/python3.10/dist-packages (from ray[default,tune]<2.11,>=2.10.0; extra == \"all\"->autogluon.core[all]==1.1.1->autogluon) (0.5.6)\n",
      "Requirement already satisfied: py-spy>=0.2.0 in /usr/local/lib/python3.10/dist-packages (from ray[default,tune]<2.11,>=2.10.0; extra == \"all\"->autogluon.core[all]==1.1.1->autogluon) (0.3.14)\n",
      "Requirement already satisfied: opencensus in /usr/local/lib/python3.10/dist-packages (from ray[default,tune]<2.11,>=2.10.0; extra == \"all\"->autogluon.core[all]==1.1.1->autogluon) (0.11.4)\n",
      "Requirement already satisfied: prometheus-client>=0.7.1 in /usr/local/lib/python3.10/dist-packages (from ray[default,tune]<2.11,>=2.10.0; extra == \"all\"->autogluon.core[all]==1.1.1->autogluon) (0.20.0)\n",
      "Requirement already satisfied: smart-open in /usr/local/lib/python3.10/dist-packages (from ray[default,tune]<2.11,>=2.10.0; extra == \"all\"->autogluon.core[all]==1.1.1->autogluon) (7.0.4)\n",
      "Requirement already satisfied: virtualenv!=20.21.1,>=20.0.24 in /usr/local/lib/python3.10/dist-packages (from ray[default,tune]<2.11,>=2.10.0; extra == \"all\"->autogluon.core[all]==1.1.1->autogluon) (20.26.3)\n",
      "Requirement already satisfied: grpcio>=1.42.0 in /usr/local/lib/python3.10/dist-packages (from ray[default,tune]<2.11,>=2.10.0; extra == \"all\"->autogluon.core[all]==1.1.1->autogluon) (1.64.1)\n",
      "Requirement already satisfied: charset-normalizer<4,>=2 in /usr/local/lib/python3.10/dist-packages (from requests->autogluon.core==1.1.1->autogluon.core[all]==1.1.1->autogluon) (3.3.2)\n",
      "Requirement already satisfied: idna<4,>=2.5 in /usr/local/lib/python3.10/dist-packages (from requests->autogluon.core==1.1.1->autogluon.core[all]==1.1.1->autogluon) (3.7)\n",
      "Requirement already satisfied: urllib3<3,>=1.21.1 in /usr/local/lib/python3.10/dist-packages (from requests->autogluon.core==1.1.1->autogluon.core[all]==1.1.1->autogluon) (2.0.7)\n",
      "Requirement already satisfied: certifi>=2017.4.17 in /usr/local/lib/python3.10/dist-packages (from requests->autogluon.core==1.1.1->autogluon.core[all]==1.1.1->autogluon) (2024.7.4)\n",
      "Requirement already satisfied: imageio>=2.4.1 in /usr/local/lib/python3.10/dist-packages (from scikit-image<0.21.0,>=0.19.1->autogluon.multimodal==1.1.1->autogluon) (2.34.2)\n",
      "Requirement already satisfied: tifffile>=2019.7.26 in /usr/local/lib/python3.10/dist-packages (from scikit-image<0.21.0,>=0.19.1->autogluon.multimodal==1.1.1->autogluon) (2024.7.24)\n",
      "Requirement already satisfied: PyWavelets>=1.1.1 in /usr/local/lib/python3.10/dist-packages (from scikit-image<0.21.0,>=0.19.1->autogluon.multimodal==1.1.1->autogluon) (1.7.0)\n",
      "Requirement already satisfied: lazy_loader>=0.1 in /usr/local/lib/python3.10/dist-packages (from scikit-image<0.21.0,>=0.19.1->autogluon.multimodal==1.1.1->autogluon) (0.4)\n",
      "Requirement already satisfied: threadpoolctl>=2.0.0 in /usr/local/lib/python3.10/dist-packages (from scikit-learn<1.4.1,>=1.3.0->autogluon.core==1.1.1->autogluon.core[all]==1.1.1->autogluon) (3.5.0)\n",
      "Requirement already satisfied: statsmodels>=0.13.2 in /usr/local/lib/python3.10/dist-packages (from statsforecast<1.5,>=1.4.0->autogluon.timeseries==1.1.1->autogluon.timeseries[all]==1.1.1->autogluon) (0.14.2)\n",
      "Requirement already satisfied: absl-py>=0.4 in /usr/local/lib/python3.10/dist-packages (from tensorboard<3,>=2.9->autogluon.multimodal==1.1.1->autogluon) (1.4.0)\n",
      "Requirement already satisfied: markdown>=2.6.8 in /usr/local/lib/python3.10/dist-packages (from tensorboard<3,>=2.9->autogluon.multimodal==1.1.1->autogluon) (3.6)\n",
      "Requirement already satisfied: tensorboard-data-server<0.8.0,>=0.7.0 in /usr/local/lib/python3.10/dist-packages (from tensorboard<3,>=2.9->autogluon.multimodal==1.1.1->autogluon) (0.7.2)\n",
      "Requirement already satisfied: werkzeug>=1.0.1 in /usr/local/lib/python3.10/dist-packages (from tensorboard<3,>=2.9->autogluon.multimodal==1.1.1->autogluon) (3.0.3)\n",
      "Requirement already satisfied: safetensors in /usr/local/lib/python3.10/dist-packages (from timm<0.10.0,>=0.9.5->autogluon.multimodal==1.1.1->autogluon) (0.4.4)\n",
      "Requirement already satisfied: nvidia-cuda-nvrtc-cu12==12.1.105 in /usr/local/lib/python3.10/dist-packages (from torch<2.4,>=2.2->autogluon.multimodal==1.1.1->autogluon) (12.1.105)\n",
      "Requirement already satisfied: nvidia-cuda-runtime-cu12==12.1.105 in /usr/local/lib/python3.10/dist-packages (from torch<2.4,>=2.2->autogluon.multimodal==1.1.1->autogluon) (12.1.105)\n",
      "Requirement already satisfied: nvidia-cuda-cupti-cu12==12.1.105 in /usr/local/lib/python3.10/dist-packages (from torch<2.4,>=2.2->autogluon.multimodal==1.1.1->autogluon) (12.1.105)\n",
      "Requirement already satisfied: nvidia-cudnn-cu12==8.9.2.26 in /usr/local/lib/python3.10/dist-packages (from torch<2.4,>=2.2->autogluon.multimodal==1.1.1->autogluon) (8.9.2.26)\n",
      "Requirement already satisfied: nvidia-cublas-cu12==12.1.3.1 in /usr/local/lib/python3.10/dist-packages (from torch<2.4,>=2.2->autogluon.multimodal==1.1.1->autogluon) (12.1.3.1)\n",
      "Requirement already satisfied: nvidia-cufft-cu12==11.0.2.54 in /usr/local/lib/python3.10/dist-packages (from torch<2.4,>=2.2->autogluon.multimodal==1.1.1->autogluon) (11.0.2.54)\n",
      "Requirement already satisfied: nvidia-curand-cu12==10.3.2.106 in /usr/local/lib/python3.10/dist-packages (from torch<2.4,>=2.2->autogluon.multimodal==1.1.1->autogluon) (10.3.2.106)\n",
      "Requirement already satisfied: nvidia-cusolver-cu12==11.4.5.107 in /usr/local/lib/python3.10/dist-packages (from torch<2.4,>=2.2->autogluon.multimodal==1.1.1->autogluon) (11.4.5.107)\n",
      "Requirement already satisfied: nvidia-cusparse-cu12==12.1.0.106 in /usr/local/lib/python3.10/dist-packages (from torch<2.4,>=2.2->autogluon.multimodal==1.1.1->autogluon) (12.1.0.106)\n",
      "Requirement already satisfied: nvidia-nccl-cu12==2.20.5 in /usr/local/lib/python3.10/dist-packages (from torch<2.4,>=2.2->autogluon.multimodal==1.1.1->autogluon) (2.20.5)\n",
      "Requirement already satisfied: nvidia-nvtx-cu12==12.1.105 in /usr/local/lib/python3.10/dist-packages (from torch<2.4,>=2.2->autogluon.multimodal==1.1.1->autogluon) (12.1.105)\n",
      "Requirement already satisfied: triton==2.3.1 in /usr/local/lib/python3.10/dist-packages (from torch<2.4,>=2.2->autogluon.multimodal==1.1.1->autogluon) (2.3.1)\n",
      "Requirement already satisfied: nvidia-nvjitlink-cu12 in /usr/local/lib/python3.10/dist-packages (from nvidia-cusolver-cu12==11.4.5.107->torch<2.4,>=2.2->autogluon.multimodal==1.1.1->autogluon) (12.6.20)\n",
      "Requirement already satisfied: tokenizers<0.19,>=0.14 in /usr/local/lib/python3.10/dist-packages (from transformers<4.41.0,>=4.38.0->transformers[sentencepiece]<4.41.0,>=4.38.0->autogluon.multimodal==1.1.1->autogluon) (0.15.2)\n",
      "Requirement already satisfied: sentencepiece!=0.1.92,>=0.1.91 in /usr/local/lib/python3.10/dist-packages (from transformers[sentencepiece]<4.41.0,>=4.38.0->autogluon.multimodal==1.1.1->autogluon) (0.1.99)\n",
      "Requirement already satisfied: contourpy>=1.0.1 in /usr/local/lib/python3.10/dist-packages (from matplotlib->autogluon.core==1.1.1->autogluon.core[all]==1.1.1->autogluon) (1.2.1)\n",
      "Requirement already satisfied: cycler>=0.10 in /usr/local/lib/python3.10/dist-packages (from matplotlib->autogluon.core==1.1.1->autogluon.core[all]==1.1.1->autogluon) (0.12.1)\n",
      "Requirement already satisfied: fonttools>=4.22.0 in /usr/local/lib/python3.10/dist-packages (from matplotlib->autogluon.core==1.1.1->autogluon.core[all]==1.1.1->autogluon) (4.53.1)\n",
      "Requirement already satisfied: kiwisolver>=1.0.1 in /usr/local/lib/python3.10/dist-packages (from matplotlib->autogluon.core==1.1.1->autogluon.core[all]==1.1.1->autogluon) (1.4.5)\n",
      "Requirement already satisfied: pyparsing>=2.3.1 in /usr/local/lib/python3.10/dist-packages (from matplotlib->autogluon.core==1.1.1->autogluon.core[all]==1.1.1->autogluon) (3.1.2)\n",
      "Requirement already satisfied: aiohappyeyeballs>=2.3.0 in /usr/local/lib/python3.10/dist-packages (from aiohttp>=3.7->ray[default,tune]<2.11,>=2.10.0; extra == \"all\"->autogluon.core[all]==1.1.1->autogluon) (2.3.5)\n",
      "Requirement already satisfied: multidict<7.0,>=4.5 in /usr/local/lib/python3.10/dist-packages (from aiohttp>=3.7->ray[default,tune]<2.11,>=2.10.0; extra == \"all\"->autogluon.core[all]==1.1.1->autogluon) (6.0.5)\n",
      "Requirement already satisfied: yarl<2.0,>=1.0 in /usr/local/lib/python3.10/dist-packages (from aiohttp>=3.7->ray[default,tune]<2.11,>=2.10.0; extra == \"all\"->autogluon.core[all]==1.1.1->autogluon) (1.9.4)\n",
      "Requirement already satisfied: async-timeout<5.0,>=4.0 in /usr/local/lib/python3.10/dist-packages (from aiohttp>=3.7->ray[default,tune]<2.11,>=2.10.0; extra == \"all\"->autogluon.core[all]==1.1.1->autogluon) (4.0.3)\n",
      "Requirement already satisfied: beautifulsoup4 in /usr/local/lib/python3.10/dist-packages (from gdown>=4.0.0->nlpaug<1.2.0,>=1.1.10->autogluon.multimodal==1.1.1->autogluon) (4.12.3)\n",
      "Requirement already satisfied: llvmlite<0.44,>=0.43.0dev0 in /usr/local/lib/python3.10/dist-packages (from numba->mlforecast<0.10.1,>=0.10.0->autogluon.timeseries==1.1.1->autogluon.timeseries[all]==1.1.1->autogluon) (0.43.0)\n",
      "Requirement already satisfied: flatbuffers in /usr/local/lib/python3.10/dist-packages (from onnxruntime>=1.11.0->optimum[onnxruntime]<1.19,>=1.17; extra == \"all\"->autogluon.timeseries[all]==1.1.1->autogluon) (24.3.25)\n",
      "Requirement already satisfied: annotated-types>=0.4.0 in /usr/local/lib/python3.10/dist-packages (from pydantic<3,>=1.7->gluonts==0.15.1->autogluon.timeseries==1.1.1->autogluon.timeseries[all]==1.1.1->autogluon) (0.7.0)\n",
      "Requirement already satisfied: pydantic-core==2.20.1 in /usr/local/lib/python3.10/dist-packages (from pydantic<3,>=1.7->gluonts==0.15.1->autogluon.timeseries==1.1.1->autogluon.timeseries[all]==1.1.1->autogluon) (2.20.1)\n",
      "Requirement already satisfied: spacy-legacy<3.1.0,>=3.0.11 in /usr/local/lib/python3.10/dist-packages (from spacy<4->fastai<2.8,>=2.3.1->autogluon.tabular[all]==1.1.1->autogluon) (3.0.12)\n",
      "Requirement already satisfied: spacy-loggers<2.0.0,>=1.0.0 in /usr/local/lib/python3.10/dist-packages (from spacy<4->fastai<2.8,>=2.3.1->autogluon.tabular[all]==1.1.1->autogluon) (1.0.5)\n",
      "Requirement already satisfied: murmurhash<1.1.0,>=0.28.0 in /usr/local/lib/python3.10/dist-packages (from spacy<4->fastai<2.8,>=2.3.1->autogluon.tabular[all]==1.1.1->autogluon) (1.0.10)\n",
      "Requirement already satisfied: cymem<2.1.0,>=2.0.2 in /usr/local/lib/python3.10/dist-packages (from spacy<4->fastai<2.8,>=2.3.1->autogluon.tabular[all]==1.1.1->autogluon) (2.0.8)\n",
      "Requirement already satisfied: preshed<3.1.0,>=3.0.2 in /usr/local/lib/python3.10/dist-packages (from spacy<4->fastai<2.8,>=2.3.1->autogluon.tabular[all]==1.1.1->autogluon) (3.0.9)\n",
      "Requirement already satisfied: thinc<8.3.0,>=8.2.2 in /usr/local/lib/python3.10/dist-packages (from spacy<4->fastai<2.8,>=2.3.1->autogluon.tabular[all]==1.1.1->autogluon) (8.2.5)\n",
      "Requirement already satisfied: wasabi<1.2.0,>=0.9.1 in /usr/local/lib/python3.10/dist-packages (from spacy<4->fastai<2.8,>=2.3.1->autogluon.tabular[all]==1.1.1->autogluon) (1.1.3)\n",
      "Requirement already satisfied: srsly<3.0.0,>=2.4.3 in /usr/local/lib/python3.10/dist-packages (from spacy<4->fastai<2.8,>=2.3.1->autogluon.tabular[all]==1.1.1->autogluon) (2.4.8)\n",
      "Requirement already satisfied: catalogue<2.1.0,>=2.0.6 in /usr/local/lib/python3.10/dist-packages (from spacy<4->fastai<2.8,>=2.3.1->autogluon.tabular[all]==1.1.1->autogluon) (2.0.10)\n",
      "Requirement already satisfied: weasel<0.5.0,>=0.1.0 in /usr/local/lib/python3.10/dist-packages (from spacy<4->fastai<2.8,>=2.3.1->autogluon.tabular[all]==1.1.1->autogluon) (0.4.1)\n",
      "Requirement already satisfied: typer<1.0.0,>=0.3.0 in /usr/local/lib/python3.10/dist-packages (from spacy<4->fastai<2.8,>=2.3.1->autogluon.tabular[all]==1.1.1->autogluon) (0.12.3)\n",
      "Requirement already satisfied: langcodes<4.0.0,>=3.2.0 in /usr/local/lib/python3.10/dist-packages (from spacy<4->fastai<2.8,>=2.3.1->autogluon.tabular[all]==1.1.1->autogluon) (3.4.0)\n",
      "Requirement already satisfied: patsy>=0.5.6 in /usr/local/lib/python3.10/dist-packages (from statsmodels>=0.13.2->statsforecast<1.5,>=1.4.0->autogluon.timeseries==1.1.1->autogluon.timeseries[all]==1.1.1->autogluon) (0.5.6)\n",
      "Requirement already satisfied: distlib<1,>=0.3.7 in /usr/local/lib/python3.10/dist-packages (from virtualenv!=20.21.1,>=20.0.24->ray[default,tune]<2.11,>=2.10.0; extra == \"all\"->autogluon.core[all]==1.1.1->autogluon) (0.3.8)\n",
      "Requirement already satisfied: platformdirs<5,>=3.9.1 in /usr/local/lib/python3.10/dist-packages (from virtualenv!=20.21.1,>=20.0.24->ray[default,tune]<2.11,>=2.10.0; extra == \"all\"->autogluon.core[all]==1.1.1->autogluon) (4.2.2)\n",
      "Requirement already satisfied: humanfriendly>=9.1 in /usr/local/lib/python3.10/dist-packages (from coloredlogs->optimum<1.19,>=1.17->optimum[onnxruntime]<1.19,>=1.17; extra == \"all\"->autogluon.timeseries[all]==1.1.1->autogluon) (10.0)\n",
      "Requirement already satisfied: ordered-set in /usr/local/lib/python3.10/dist-packages (from model-index->openmim<0.4.0,>=0.3.7->autogluon.multimodal==1.1.1->autogluon) (4.1.0)\n",
      "Requirement already satisfied: opencensus-context>=0.1.3 in /usr/local/lib/python3.10/dist-packages (from opencensus->ray[default,tune]<2.11,>=2.10.0; extra == \"all\"->autogluon.core[all]==1.1.1->autogluon) (0.1.3)\n",
      "Requirement already satisfied: google-api-core<3.0.0,>=1.0.0 in /usr/local/lib/python3.10/dist-packages (from opencensus->ray[default,tune]<2.11,>=2.10.0; extra == \"all\"->autogluon.core[all]==1.1.1->autogluon) (2.19.1)\n",
      "Requirement already satisfied: pycryptodome in /usr/local/lib/python3.10/dist-packages (from opendatalab->openmim<0.4.0,>=0.3.7->autogluon.multimodal==1.1.1->autogluon) (3.20.0)\n",
      "Requirement already satisfied: openxlab in /usr/local/lib/python3.10/dist-packages (from opendatalab->openmim<0.4.0,>=0.3.7->autogluon.multimodal==1.1.1->autogluon) (0.0.11)\n",
      "Requirement already satisfied: tenacity>=6.2.0 in /usr/local/lib/python3.10/dist-packages (from plotly->catboost<1.3,>=1.1->autogluon.tabular[all]==1.1.1->autogluon) (9.0.0)\n",
      "Requirement already satisfied: markdown-it-py>=2.2.0 in /usr/local/lib/python3.10/dist-packages (from rich->openmim<0.4.0,>=0.3.7->autogluon.multimodal==1.1.1->autogluon) (3.0.0)\n",
      "Requirement already satisfied: pygments<3.0.0,>=2.13.0 in /usr/local/lib/python3.10/dist-packages (from rich->openmim<0.4.0,>=0.3.7->autogluon.multimodal==1.1.1->autogluon) (2.16.1)\n",
      "Requirement already satisfied: wrapt in /usr/local/lib/python3.10/dist-packages (from smart-open->ray[default,tune]<2.11,>=2.10.0; extra == \"all\"->autogluon.core[all]==1.1.1->autogluon) (1.16.0)\n",
      "Requirement already satisfied: mpmath<1.4,>=1.1.0 in /usr/local/lib/python3.10/dist-packages (from sympy->optimum<1.19,>=1.17->optimum[onnxruntime]<1.19,>=1.17; extra == \"all\"->autogluon.timeseries[all]==1.1.1->autogluon) (1.3.0)\n",
      "Requirement already satisfied: googleapis-common-protos<2.0.dev0,>=1.56.2 in /usr/local/lib/python3.10/dist-packages (from google-api-core<3.0.0,>=1.0.0->opencensus->ray[default,tune]<2.11,>=2.10.0; extra == \"all\"->autogluon.core[all]==1.1.1->autogluon) (1.63.2)\n",
      "Requirement already satisfied: proto-plus<2.0.0dev,>=1.22.3 in /usr/local/lib/python3.10/dist-packages (from google-api-core<3.0.0,>=1.0.0->opencensus->ray[default,tune]<2.11,>=2.10.0; extra == \"all\"->autogluon.core[all]==1.1.1->autogluon) (1.24.0)\n",
      "Requirement already satisfied: google-auth<3.0.dev0,>=2.14.1 in /usr/local/lib/python3.10/dist-packages (from google-api-core<3.0.0,>=1.0.0->opencensus->ray[default,tune]<2.11,>=2.10.0; extra == \"all\"->autogluon.core[all]==1.1.1->autogluon) (2.27.0)\n",
      "Requirement already satisfied: language-data>=1.2 in /usr/local/lib/python3.10/dist-packages (from langcodes<4.0.0,>=3.2.0->spacy<4->fastai<2.8,>=2.3.1->autogluon.tabular[all]==1.1.1->autogluon) (1.2.0)\n",
      "Requirement already satisfied: mdurl~=0.1 in /usr/local/lib/python3.10/dist-packages (from markdown-it-py>=2.2.0->rich->openmim<0.4.0,>=0.3.7->autogluon.multimodal==1.1.1->autogluon) (0.1.2)\n",
      "Requirement already satisfied: blis<0.8.0,>=0.7.8 in /usr/local/lib/python3.10/dist-packages (from thinc<8.3.0,>=8.2.2->spacy<4->fastai<2.8,>=2.3.1->autogluon.tabular[all]==1.1.1->autogluon) (0.7.11)\n",
      "Requirement already satisfied: confection<1.0.0,>=0.0.1 in /usr/local/lib/python3.10/dist-packages (from thinc<8.3.0,>=8.2.2->spacy<4->fastai<2.8,>=2.3.1->autogluon.tabular[all]==1.1.1->autogluon) (0.1.5)\n",
      "Requirement already satisfied: shellingham>=1.3.0 in /usr/local/lib/python3.10/dist-packages (from typer<1.0.0,>=0.3.0->spacy<4->fastai<2.8,>=2.3.1->autogluon.tabular[all]==1.1.1->autogluon) (1.5.4)\n",
      "Requirement already satisfied: cloudpathlib<1.0.0,>=0.7.0 in /usr/local/lib/python3.10/dist-packages (from weasel<0.5.0,>=0.1.0->spacy<4->fastai<2.8,>=2.3.1->autogluon.tabular[all]==1.1.1->autogluon) (0.18.1)\n",
      "Requirement already satisfied: soupsieve>1.2 in /usr/local/lib/python3.10/dist-packages (from beautifulsoup4->gdown>=4.0.0->nlpaug<1.2.0,>=1.1.10->autogluon.multimodal==1.1.1->autogluon) (2.5)\n",
      "Requirement already satisfied: PySocks!=1.5.7,>=1.5.6 in /usr/local/lib/python3.10/dist-packages (from requests[socks]->gdown>=4.0.0->nlpaug<1.2.0,>=1.1.10->autogluon.multimodal==1.1.1->autogluon) (1.7.1)\n",
      "Requirement already satisfied: cachetools<6.0,>=2.0.0 in /usr/local/lib/python3.10/dist-packages (from google-auth<3.0.dev0,>=2.14.1->google-api-core<3.0.0,>=1.0.0->opencensus->ray[default,tune]<2.11,>=2.10.0; extra == \"all\"->autogluon.core[all]==1.1.1->autogluon) (5.4.0)\n",
      "Requirement already satisfied: pyasn1-modules>=0.2.1 in /usr/local/lib/python3.10/dist-packages (from google-auth<3.0.dev0,>=2.14.1->google-api-core<3.0.0,>=1.0.0->opencensus->ray[default,tune]<2.11,>=2.10.0; extra == \"all\"->autogluon.core[all]==1.1.1->autogluon) (0.4.0)\n",
      "Requirement already satisfied: rsa<5,>=3.1.4 in /usr/local/lib/python3.10/dist-packages (from google-auth<3.0.dev0,>=2.14.1->google-api-core<3.0.0,>=1.0.0->opencensus->ray[default,tune]<2.11,>=2.10.0; extra == \"all\"->autogluon.core[all]==1.1.1->autogluon) (4.9)\n",
      "Requirement already satisfied: marisa-trie>=0.7.7 in /usr/local/lib/python3.10/dist-packages (from language-data>=1.2->langcodes<4.0.0,>=3.2.0->spacy<4->fastai<2.8,>=2.3.1->autogluon.tabular[all]==1.1.1->autogluon) (1.2.0)\n",
      "Requirement already satisfied: pyasn1<0.7.0,>=0.4.6 in /usr/local/lib/python3.10/dist-packages (from pyasn1-modules>=0.2.1->google-auth<3.0.dev0,>=2.14.1->google-api-core<3.0.0,>=1.0.0->opencensus->ray[default,tune]<2.11,>=2.10.0; extra == \"all\"->autogluon.core[all]==1.1.1->autogluon) (0.6.0)\n"
     ]
    }
   ],
   "source": [
    "!pip install autogluon"
   ]
  },
  {
   "cell_type": "code",
   "execution_count": 1,
   "metadata": {
    "id": "Uta59whAn79G"
   },
   "outputs": [
    {
     "name": "stderr",
     "output_type": "stream",
     "text": [
      "C:\\Users\\adilh\\anaconda3\\Lib\\site-packages\\pandas\\core\\arrays\\masked.py:60: UserWarning: Pandas requires version '1.3.6' or newer of 'bottleneck' (version '1.3.5' currently installed).\n",
      "  from pandas.core import (\n"
     ]
    }
   ],
   "source": [
    "#importing the libraries\n",
    "import numpy as np\n",
    "import pandas as pd\n",
    "\n",
    "#Importing autogluon model\n",
    "from autogluon.tabular import TabularPredictor\n",
    "from sklearn.model_selection import train_test_split"
   ]
  },
  {
   "cell_type": "code",
   "execution_count": 2,
   "metadata": {
    "id": "iBgPo0BvoUn3"
   },
   "outputs": [],
   "source": [
    "#importing the datasets\n",
    "train_data=pd.read_csv(\'/content/drive/train.csv')\n",
    "\n",
    "#dropping the id column as it could cause trouble while model is learning.\n",
    "train_data=train_data.drop(columns='id')\n",
    "\n",
    "test_data=pd.read_csv(\'/content/drive/train.csv')"
   ]
  },
  {
   "cell_type": "code",
   "execution_count": 3,
   "metadata": {
    "colab": {
     "base_uri": "https://localhost:8080/",
     "height": 270
    },
    "id": "Fr5iq_x0odtR",
    "outputId": "e47d7f20-da2f-4a32-c9c5-923f61497383"
   },
   "outputs": [
    {
     "data": {
      "text/html": [
       "<div>\n",
       "<style scoped>\n",
       "    .dataframe tbody tr th:only-of-type {\n",
       "        vertical-align: middle;\n",
       "    }\n",
       "\n",
       "    .dataframe tbody tr th {\n",
       "        vertical-align: top;\n",
       "    }\n",
       "\n",
       "    .dataframe thead th {\n",
       "        text-align: right;\n",
       "    }\n",
       "</style>\n",
       "<table border=\"1\" class=\"dataframe\">\n",
       "  <thead>\n",
       "    <tr style=\"text-align: right;\">\n",
       "      <th></th>\n",
       "      <th>class</th>\n",
       "      <th>cap-diameter</th>\n",
       "      <th>cap-shape</th>\n",
       "      <th>cap-surface</th>\n",
       "      <th>cap-color</th>\n",
       "      <th>does-bruise-or-bleed</th>\n",
       "      <th>gill-attachment</th>\n",
       "      <th>gill-spacing</th>\n",
       "      <th>gill-color</th>\n",
       "      <th>stem-height</th>\n",
       "      <th>...</th>\n",
       "      <th>stem-root</th>\n",
       "      <th>stem-surface</th>\n",
       "      <th>stem-color</th>\n",
       "      <th>veil-type</th>\n",
       "      <th>veil-color</th>\n",
       "      <th>has-ring</th>\n",
       "      <th>ring-type</th>\n",
       "      <th>spore-print-color</th>\n",
       "      <th>habitat</th>\n",
       "      <th>season</th>\n",
       "    </tr>\n",
       "  </thead>\n",
       "  <tbody>\n",
       "    <tr>\n",
       "      <th>0</th>\n",
       "      <td>e</td>\n",
       "      <td>8.80</td>\n",
       "      <td>f</td>\n",
       "      <td>s</td>\n",
       "      <td>u</td>\n",
       "      <td>f</td>\n",
       "      <td>a</td>\n",
       "      <td>c</td>\n",
       "      <td>w</td>\n",
       "      <td>4.51</td>\n",
       "      <td>...</td>\n",
       "      <td>NaN</td>\n",
       "      <td>NaN</td>\n",
       "      <td>w</td>\n",
       "      <td>NaN</td>\n",
       "      <td>NaN</td>\n",
       "      <td>f</td>\n",
       "      <td>f</td>\n",
       "      <td>NaN</td>\n",
       "      <td>d</td>\n",
       "      <td>a</td>\n",
       "    </tr>\n",
       "    <tr>\n",
       "      <th>1</th>\n",
       "      <td>p</td>\n",
       "      <td>4.51</td>\n",
       "      <td>x</td>\n",
       "      <td>h</td>\n",
       "      <td>o</td>\n",
       "      <td>f</td>\n",
       "      <td>a</td>\n",
       "      <td>c</td>\n",
       "      <td>n</td>\n",
       "      <td>4.79</td>\n",
       "      <td>...</td>\n",
       "      <td>NaN</td>\n",
       "      <td>y</td>\n",
       "      <td>o</td>\n",
       "      <td>NaN</td>\n",
       "      <td>NaN</td>\n",
       "      <td>t</td>\n",
       "      <td>z</td>\n",
       "      <td>NaN</td>\n",
       "      <td>d</td>\n",
       "      <td>w</td>\n",
       "    </tr>\n",
       "    <tr>\n",
       "      <th>2</th>\n",
       "      <td>e</td>\n",
       "      <td>6.94</td>\n",
       "      <td>f</td>\n",
       "      <td>s</td>\n",
       "      <td>b</td>\n",
       "      <td>f</td>\n",
       "      <td>x</td>\n",
       "      <td>c</td>\n",
       "      <td>w</td>\n",
       "      <td>6.85</td>\n",
       "      <td>...</td>\n",
       "      <td>NaN</td>\n",
       "      <td>s</td>\n",
       "      <td>n</td>\n",
       "      <td>NaN</td>\n",
       "      <td>NaN</td>\n",
       "      <td>f</td>\n",
       "      <td>f</td>\n",
       "      <td>NaN</td>\n",
       "      <td>l</td>\n",
       "      <td>w</td>\n",
       "    </tr>\n",
       "    <tr>\n",
       "      <th>3</th>\n",
       "      <td>e</td>\n",
       "      <td>3.88</td>\n",
       "      <td>f</td>\n",
       "      <td>y</td>\n",
       "      <td>g</td>\n",
       "      <td>f</td>\n",
       "      <td>s</td>\n",
       "      <td>NaN</td>\n",
       "      <td>g</td>\n",
       "      <td>4.16</td>\n",
       "      <td>...</td>\n",
       "      <td>NaN</td>\n",
       "      <td>NaN</td>\n",
       "      <td>w</td>\n",
       "      <td>NaN</td>\n",
       "      <td>NaN</td>\n",
       "      <td>f</td>\n",
       "      <td>f</td>\n",
       "      <td>NaN</td>\n",
       "      <td>d</td>\n",
       "      <td>u</td>\n",
       "    </tr>\n",
       "    <tr>\n",
       "      <th>4</th>\n",
       "      <td>e</td>\n",
       "      <td>5.85</td>\n",
       "      <td>x</td>\n",
       "      <td>l</td>\n",
       "      <td>w</td>\n",
       "      <td>f</td>\n",
       "      <td>d</td>\n",
       "      <td>NaN</td>\n",
       "      <td>w</td>\n",
       "      <td>3.37</td>\n",
       "      <td>...</td>\n",
       "      <td>NaN</td>\n",
       "      <td>NaN</td>\n",
       "      <td>w</td>\n",
       "      <td>NaN</td>\n",
       "      <td>NaN</td>\n",
       "      <td>f</td>\n",
       "      <td>f</td>\n",
       "      <td>NaN</td>\n",
       "      <td>g</td>\n",
       "      <td>a</td>\n",
       "    </tr>\n",
       "  </tbody>\n",
       "</table>\n",
       "<p>5 rows × 21 columns</p>\n",
       "</div>"
      ],
      "text/plain": [
       "  class  cap-diameter cap-shape cap-surface cap-color does-bruise-or-bleed  \\\n",
       "0     e          8.80         f           s         u                    f   \n",
       "1     p          4.51         x           h         o                    f   \n",
       "2     e          6.94         f           s         b                    f   \n",
       "3     e          3.88         f           y         g                    f   \n",
       "4     e          5.85         x           l         w                    f   \n",
       "\n",
       "  gill-attachment gill-spacing gill-color  stem-height  ...  stem-root  \\\n",
       "0               a            c          w         4.51  ...        NaN   \n",
       "1               a            c          n         4.79  ...        NaN   \n",
       "2               x            c          w         6.85  ...        NaN   \n",
       "3               s          NaN          g         4.16  ...        NaN   \n",
       "4               d          NaN          w         3.37  ...        NaN   \n",
       "\n",
       "  stem-surface stem-color veil-type veil-color has-ring ring-type  \\\n",
       "0          NaN          w       NaN        NaN        f         f   \n",
       "1            y          o       NaN        NaN        t         z   \n",
       "2            s          n       NaN        NaN        f         f   \n",
       "3          NaN          w       NaN        NaN        f         f   \n",
       "4          NaN          w       NaN        NaN        f         f   \n",
       "\n",
       "  spore-print-color habitat season  \n",
       "0               NaN       d      a  \n",
       "1               NaN       d      w  \n",
       "2               NaN       l      w  \n",
       "3               NaN       d      u  \n",
       "4               NaN       g      a  \n",
       "\n",
       "[5 rows x 21 columns]"
      ]
     },
     "execution_count": 3,
     "metadata": {},
     "output_type": "execute_result"
    }
   ],
   "source": [
    "train_data.head()"
   ]
  },
  {
   "cell_type": "markdown",
   "metadata": {},
   "source": [
    "##### assigning features and labels over here"
   ]
  },
  {
   "cell_type": "code",
   "execution_count": 4,
   "metadata": {
    "id": "3BzH_Mt-okZA"
   },
   "outputs": [],
   "source": [
    "#this is the target class which we need to predict.\n",
    "\n",
    "target_col='class'\n",
    "#all the columns irrespective to their correlation was given as a features.\n",
    "features=train_data.drop(columns=[target_col])\n",
    "\n",
    "#class has a value of 'e' and 'p', which means edible or poisonous.\n",
    "labels=train_data[target_col]\n",
    "\n",
    "#When using autogluon model, we need to give this model dataset containing both features and label.\n",
    "train_data1=pd.concat([features,labels],axis=1)"
   ]
  },
  {
   "cell_type": "code",
   "execution_count": 5,
   "metadata": {
    "id": "t9SjcJ7Xokb9"
   },
   "outputs": [],
   "source": [
    "#implementing train_test_split; splitting train_data1 into 80% for training and 20% for testing.\n",
    "\n",
    "training_data,testing_data = train_test_split(train_data1,test_size=0.2,random_state=42)"
   ]
  },
  {
   "cell_type": "code",
   "execution_count": 10,
   "metadata": {
    "colab": {
     "base_uri": "https://localhost:8080/"
    },
    "collapsed": true,
    "id": "u44byfFjokfc",
    "outputId": "c1996158-99d0-4ea3-b429-564a61bb6649"
   },
   "outputs": [
    {
     "name": "stderr",
     "output_type": "stream",
     "text": [
      "No path specified. Models will be saved in: \"AutogluonModels/ag-20240816_222402\"\n",
      "Verbosity: 2 (Standard Logging)\n",
      "=================== System Info ===================\n",
      "AutoGluon Version:  1.1.1\n",
      "Python Version:     3.10.12\n",
      "Operating System:   Linux\n",
      "Platform Machine:   x86_64\n",
      "Platform Version:   #1 SMP PREEMPT_DYNAMIC Thu Jun 27 21:05:47 UTC 2024\n",
      "CPU Count:          2\n",
      "Memory Avail:       8.03 GB / 12.67 GB (63.3%)\n",
      "Disk Space Avail:   71.77 GB / 107.72 GB (66.6%)\n",
      "===================================================\n",
      "No presets specified! To achieve strong results with AutoGluon, it is recommended to use the available presets.\n",
      "\tRecommended Presets (For more details refer to https://auto.gluon.ai/stable/tutorials/tabular/tabular-essentials.html#presets):\n",
      "\tpresets='best_quality'   : Maximize accuracy. Default time_limit=3600.\n",
      "\tpresets='high_quality'   : Strong accuracy with fast inference speed. Default time_limit=3600.\n",
      "\tpresets='good_quality'   : Good accuracy with very fast inference speed. Default time_limit=3600.\n",
      "\tpresets='medium_quality' : Fast training time, ideal for initial prototyping.\n",
      "Warning: Training may take a very long time because `time_limit` was not specified and `train_data` is large (2493556 samples, 2352.87 MB).\n",
      "\tConsider setting `time_limit` to ensure training finishes within an expected duration or experiment with a small portion of `train_data` to identify an ideal `presets` and `hyperparameters` configuration.\n",
      "Beginning AutoGluon training ...\n",
      "AutoGluon will save models to \"AutogluonModels/ag-20240816_222402\"\n",
      "Train Data Rows:    2493556\n",
      "Train Data Columns: 20\n",
      "Label Column:       class\n",
      "AutoGluon infers your prediction problem is: 'binary' (because only two unique label-values observed).\n",
      "\t2 unique label values:  ['p', 'e']\n",
      "\tIf 'binary' is not the correct problem_type, please manually specify the problem_type parameter during Predictor init (You may specify problem_type as one of: ['binary', 'multiclass', 'regression', 'quantile'])\n",
      "Problem Type:       binary\n",
      "Preprocessing data ...\n",
      "Selected class <--> label mapping:  class 1 = p, class 0 = e\n",
      "\tNote: For your binary classification, AutoGluon arbitrarily selected which label-value represents positive (p) vs negative (e) class.\n",
      "\tTo explicitly set the positive_class, either rename classes to 1 and 0, or specify positive_class in Predictor init.\n",
      "Using Feature Generators to preprocess the data ...\n",
      "Fitting AutoMLPipelineFeatureGenerator...\n",
      "\tAvailable Memory:                    9926.12 MB\n",
      "\tTrain Data (Original)  Memory Usage: 2086.92 MB (21.0% of available memory)\n",
      "\tWarning: Data size prior to feature transformation consumes 21.0% of available memory. Consider increasing memory or subsampling the data to avoid instability.\n",
      "\tInferring data type of each feature based on column values. Set feature_metadata_in to manually specify special dtypes of the features.\n",
      "\tStage 1 Generators:\n",
      "\t\tFitting AsTypeFeatureGenerator...\n",
      "\tStage 2 Generators:\n",
      "\t\tFitting FillNaFeatureGenerator...\n",
      "\tStage 3 Generators:\n",
      "\t\tFitting IdentityFeatureGenerator...\n",
      "\t\tFitting CategoryFeatureGenerator...\n",
      "\t\t\tFitting CategoryMemoryMinimizeFeatureGenerator...\n",
      "\tStage 4 Generators:\n",
      "\t\tFitting DropUniqueFeatureGenerator...\n",
      "\tStage 5 Generators:\n",
      "\t\tFitting DropDuplicatesFeatureGenerator...\n",
      "\tTypes of features in original data (raw dtype, special dtypes):\n",
      "\t\t('float', [])  :  3 | ['cap-diameter', 'stem-height', 'stem-width']\n",
      "\t\t('object', []) : 17 | ['cap-shape', 'cap-surface', 'cap-color', 'does-bruise-or-bleed', 'gill-attachment', ...]\n",
      "\tTypes of features in processed data (raw dtype, special dtypes):\n",
      "\t\t('category', []) : 17 | ['cap-shape', 'cap-surface', 'cap-color', 'does-bruise-or-bleed', 'gill-attachment', ...]\n",
      "\t\t('float', [])    :  3 | ['cap-diameter', 'stem-height', 'stem-width']\n",
      "\t29.4s = Fit runtime\n",
      "\t20 features in original data used to generate 20 features in processed data.\n",
      "\tTrain Data (Processed) Memory Usage: 97.51 MB (1.0% of available memory)\n",
      "Data preprocessing and feature engineering runtime = 33.41s ...\n",
      "AutoGluon will gauge predictive performance using evaluation metric: 'accuracy'\n",
      "\tTo change this, specify the eval_metric parameter of Predictor()\n",
      "Automatically generating train/validation split with holdout_frac=0.01, Train Rows: 2468620, Val Rows: 24936\n",
      "User-specified model hyperparameters to be fit:\n",
      "{\n",
      "\t'NN_TORCH': {},\n",
      "\t'GBM': [{'extra_trees': True, 'ag_args': {'name_suffix': 'XT'}}, {}, 'GBMLarge'],\n",
      "\t'CAT': {},\n",
      "\t'XGB': {},\n",
      "\t'FASTAI': {},\n",
      "\t'RF': [{'criterion': 'gini', 'ag_args': {'name_suffix': 'Gini', 'problem_types': ['binary', 'multiclass']}}, {'criterion': 'entropy', 'ag_args': {'name_suffix': 'Entr', 'problem_types': ['binary', 'multiclass']}}, {'criterion': 'squared_error', 'ag_args': {'name_suffix': 'MSE', 'problem_types': ['regression', 'quantile']}}],\n",
      "\t'XT': [{'criterion': 'gini', 'ag_args': {'name_suffix': 'Gini', 'problem_types': ['binary', 'multiclass']}}, {'criterion': 'entropy', 'ag_args': {'name_suffix': 'Entr', 'problem_types': ['binary', 'multiclass']}}, {'criterion': 'squared_error', 'ag_args': {'name_suffix': 'MSE', 'problem_types': ['regression', 'quantile']}}],\n",
      "\t'KNN': [{'weights': 'uniform', 'ag_args': {'name_suffix': 'Unif'}}, {'weights': 'distance', 'ag_args': {'name_suffix': 'Dist'}}],\n",
      "}\n",
      "Fitting 13 L1 models ...\n",
      "Fitting model: KNeighborsUnif ...\n",
      "\t0.7978\t = Validation score   (accuracy)\n",
      "\t11.18s\t = Training   runtime\n",
      "\t0.34s\t = Validation runtime\n",
      "Fitting model: KNeighborsDist ...\n",
      "\t0.7924\t = Validation score   (accuracy)\n",
      "\t6.19s\t = Training   runtime\n",
      "\t0.91s\t = Validation runtime\n",
      "Fitting model: LightGBMXT ...\n",
      "/usr/local/lib/python3.10/dist-packages/dask/dataframe/__init__.py:42: FutureWarning: \n",
      "Dask dataframe query planning is disabled because dask-expr is not installed.\n",
      "\n",
      "You can install it with `pip install dask[dataframe]` or `conda install dask`.\n",
      "This will raise in a future version.\n",
      "\n",
      "  warnings.warn(msg, FutureWarning)\n"
     ]
    },
    {
     "name": "stdout",
     "output_type": "stream",
     "text": [
      "[1000]\tvalid_set's binary_error: 0.00705807\n"
     ]
    },
    {
     "name": "stderr",
     "output_type": "stream",
     "text": [
      "\t0.9932\t = Validation score   (accuracy)\n",
      "\t536.61s\t = Training   runtime\n",
      "\t4.09s\t = Validation runtime\n",
      "Fitting model: LightGBM ...\n"
     ]
    },
    {
     "name": "stdout",
     "output_type": "stream",
     "text": [
      "[1000]\tvalid_set's binary_error: 0.00721848\n"
     ]
    },
    {
     "name": "stderr",
     "output_type": "stream",
     "text": [
      "\t0.9929\t = Validation score   (accuracy)\n",
      "\t519.78s\t = Training   runtime\n",
      "\t3.61s\t = Validation runtime\n",
      "Fitting model: RandomForestGini ...\n",
      "\t0.9927\t = Validation score   (accuracy)\n",
      "\t2728.73s\t = Training   runtime\n",
      "\t2.36s\t = Validation runtime\n",
      "Fitting model: RandomForestEntr ...\n",
      "\tWarning: Not enough memory to safely train model. Estimated to require 1.646 GB out of 3.222 GB available memory (51.072%)... (50.000% of avail memory is the max safe size)\n",
      "\tTo force training the model, specify the model hyperparameter \"ag.max_memory_usage_ratio\" to a larger value (currently 1.0, set to >=1.07 to avoid the error)\n",
      "\t\tTo set the same value for all models, do the following when calling predictor.fit: `predictor.fit(..., ag_args_fit={\"ag.max_memory_usage_ratio\": VALUE})`\n",
      "\t\tSetting \"ag.max_memory_usage_ratio\" to values above 1 may result in out-of-memory errors. You may consider using a machine with more memory as a safer alternative.\n",
      "\tNot enough memory to train RandomForestEntr... Skipping this model.\n",
      "Fitting model: CatBoost ...\n",
      "Warning: Large model size may cause OOM error if training continues\n",
      "Warning: Early stopped model prior to optimal result to avoid OOM error. Please increase available memory to avoid subpar model quality.\n",
      "Available Memory: 3656 MB, Estimated Model size: 3710 MB\n",
      "\tRan low on memory, early stopping on iteration 21.\n",
      "\t0.9652\t = Validation score   (accuracy)\n",
      "\t249.93s\t = Training   runtime\n",
      "\t0.03s\t = Validation runtime\n",
      "Fitting model: ExtraTreesGini ...\n",
      "\tWarning: Potentially not enough memory to safely train model. Estimated to require 1.646 GB out of 3.832 GB available memory (42.949%)... (50.000% of avail memory is the max safe size)\n",
      "\tTo avoid this warning, specify the model hyperparameter \"ag.max_memory_usage_ratio\" to a larger value (currently 1.0, set to >=1.12 to avoid the warning)\n",
      "\t\tTo set the same value for all models, do the following when calling predictor.fit: `predictor.fit(..., ag_args_fit={\"ag.max_memory_usage_ratio\": VALUE})`\n",
      "\t\tSetting \"ag.max_memory_usage_ratio\" to values above 1 may result in out-of-memory errors. You may consider using a machine with more memory as a safer alternative.\n",
      "\tWarning: Reducing model 'n_estimators' from 300 -> 216 due to low memory. Expected memory usage reduced from 20.8% -> 15.0% of available memory...\n",
      "\t0.9923\t = Validation score   (accuracy)\n",
      "\t991.85s\t = Training   runtime\n",
      "\t1.04s\t = Validation runtime\n",
      "Fitting model: ExtraTreesEntr ...\n",
      "\tWarning: Potentially not enough memory to safely train model. Estimated to require 1.646 GB out of 3.708 GB available memory (44.387%)... (50.000% of avail memory is the max safe size)\n",
      "\tTo avoid this warning, specify the model hyperparameter \"ag.max_memory_usage_ratio\" to a larger value (currently 1.0, set to >=1.16 to avoid the warning)\n",
      "\t\tTo set the same value for all models, do the following when calling predictor.fit: `predictor.fit(..., ag_args_fit={\"ag.max_memory_usage_ratio\": VALUE})`\n",
      "\t\tSetting \"ag.max_memory_usage_ratio\" to values above 1 may result in out-of-memory errors. You may consider using a machine with more memory as a safer alternative.\n",
      "\tWarning: Reducing model 'n_estimators' from 300 -> 213 due to low memory. Expected memory usage reduced from 21.05% -> 15.0% of available memory...\n",
      "\t0.9922\t = Validation score   (accuracy)\n",
      "\t1043.55s\t = Training   runtime\n",
      "\t1.55s\t = Validation runtime\n",
      "Fitting model: NeuralNetFastAI ...\n",
      "\t0.993\t = Validation score   (accuracy)\n",
      "\t3220.15s\t = Training   runtime\n",
      "\t0.4s\t = Validation runtime\n",
      "Fitting model: XGBoost ...\n",
      "\t0.9933\t = Validation score   (accuracy)\n",
      "\t2172.88s\t = Training   runtime\n",
      "\t2.54s\t = Validation runtime\n",
      "Fitting model: NeuralNetTorch ...\n",
      "\t0.9933\t = Validation score   (accuracy)\n",
      "\t9714.12s\t = Training   runtime\n",
      "\t0.46s\t = Validation runtime\n",
      "Fitting model: LightGBMLarge ...\n",
      "\t0.9926\t = Validation score   (accuracy)\n",
      "\t239.4s\t = Training   runtime\n",
      "\t1.69s\t = Validation runtime\n",
      "Fitting model: WeightedEnsemble_L2 ...\n",
      "\tEnsemble Weights: {'XGBoost': 0.421, 'LightGBMXT': 0.263, 'RandomForestGini': 0.158, 'KNeighborsUnif': 0.105, 'CatBoost': 0.053}\n",
      "\t0.9937\t = Validation score   (accuracy)\n",
      "\t0.96s\t = Training   runtime\n",
      "\t0.0s\t = Validation runtime\n",
      "AutoGluon training complete, total runtime = 21525.89s ... Best model: WeightedEnsemble_L2 | Estimated inference throughput: 2660.5 rows/s (24936 batch size)\n",
      "TabularPredictor saved. To load, use: predictor = TabularPredictor.load(\"AutogluonModels/ag-20240816_222402\")\n"
     ]
    }
   ],
   "source": [
    "predictor=TabularPredictor(label=target_col).fit(training_data)"
   ]
  },
  {
   "cell_type": "code",
   "execution_count": 11,
   "metadata": {
    "colab": {
     "base_uri": "https://localhost:8080/"
    },
    "id": "zMMD9KknfKJa",
    "outputId": "26c33d1c-d2eb-459c-e322-e6f7ea715929"
   },
   "outputs": [
    {
     "name": "stdout",
     "output_type": "stream",
     "text": [
      "Training Performance: {'accuracy': 0.993136308147882, 'balanced_accuracy': 0.9931814424410925, 'mcc': 0.9861548168988659, 'roc_auc': 0.9984682970057067, 'f1': 0.9937215954007522, 'precision': 0.9947422420713172, 'recall': 0.9927030410347668}\n"
     ]
    }
   ],
   "source": [
    "# Evaluate on training data\n",
    "train_performance = predictor.evaluate(training_data)\n",
    "print(\"Training Performance:\", train_performance)"
   ]
  },
  {
   "cell_type": "code",
   "execution_count": 12,
   "metadata": {
    "id": "mRfu6ALKlEiO"
   },
   "outputs": [],
   "source": [
    "#to load the saved model.\n",
    "#predictor = TabularPredictor.load(\"AutogluonModels/ag-20240816_222402\")"
   ]
  },
  {
   "cell_type": "code",
   "execution_count": 13,
   "metadata": {
    "colab": {
     "base_uri": "https://localhost:8080/"
    },
    "id": "0LeHfoqdqum8",
    "outputId": "906127c8-7750-43b1-af91-d3951b376d6f"
   },
   "outputs": [
    {
     "name": "stdout",
     "output_type": "stream",
     "text": [
      "{'accuracy': 0.9922600495036005, 'balanced_accuracy': 0.9922837012998098, 'mcc': 0.9843869213025499, 'roc_auc': 0.996272492068019, 'f1': 0.9929187305081637, 'precision': 0.9938069762590964, 'recall': 0.9920320711336337}\n"
     ]
    }
   ],
   "source": [
    "# Evaluate on testing data\n",
    "performance=predictor.evaluate(testing_data)\n",
    "print(performance)"
   ]
  },
  {
   "cell_type": "code",
   "execution_count": 14,
   "metadata": {
    "colab": {
     "base_uri": "https://localhost:8080/"
    },
    "id": "4J9whpqsqvGP",
    "outputId": "0ced89ea-76d9-41a9-ff97-993af0725e9c"
   },
   "outputs": [
    {
     "name": "stdout",
     "output_type": "stream",
     "text": [
      "1356763    p\n",
      "2369311    p\n",
      "1146527    e\n",
      "889383     p\n",
      "416134     p\n",
      "          ..\n",
      "3064286    p\n",
      "1423832    e\n",
      "2019324    p\n",
      "150438     e\n",
      "273418     p\n",
      "Name: class, Length: 623389, dtype: object\n"
     ]
    }
   ],
   "source": [
    "#prediction on a testing dataset.\n",
    "\n",
    "prediction = predictor.predict(testing_data)\n",
    "print(prediction)"
   ]
  },
  {
   "cell_type": "code",
   "execution_count": 15,
   "metadata": {
    "colab": {
     "base_uri": "https://localhost:8080/",
     "height": 484
    },
    "id": "B2EI-QFBe3tv",
    "outputId": "c6d1c69f-107d-4576-e0bd-021a2793c616"
   },
   "outputs": [
    {
     "name": "stdout",
     "output_type": "stream",
     "text": [
      "The model seems to be well-fitted.\n"
     ]
    },
    {
     "data": {
      "text/plain": [
       "<sklearn.metrics._plot.confusion_matrix.ConfusionMatrixDisplay at 0x7ab2f400b550>"
      ]
     },
     "execution_count": 15,
     "metadata": {},
     "output_type": "execute_result"
    },
    {
     "data": {
      "image/png": "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\n",
      "text/plain": [
       "<Figure size 640x480 with 2 Axes>"
      ]
     },
     "metadata": {},
     "output_type": "display_data"
    }
   ],
   "source": [
    "from sklearn.metrics import ConfusionMatrixDisplay\n",
    "\n",
    "\n",
    "# Compare training and test performance\n",
    "if train_performance['accuracy'] > performance['accuracy'] + 0.1:\n",
    "    print(\"The model is likely overfitting.\")\n",
    "elif train_performance['accuracy'] < 0.7 and performance['accuracy'] < 0.7:\n",
    "    print(\"The model is likely underfitting.\")\n",
    "else:\n",
    "    print(\"The model seems to be well-fitted.\")\n",
    "\n",
    "# Optionally, visualize confusion matrix\n",
    "ConfusionMatrixDisplay.from_predictions(testing_data['class'], prediction)\n"
   ]
  },
  {
   "cell_type": "code",
   "execution_count": 5,
   "metadata": {
    "id": "1zQ6aRmer7AO"
   },
   "outputs": [],
   "source": [
    "#initialized the given test_data and also dropping the id column.\n",
    "\n",
    "new_test=test_data.drop(columns=['id'])"
   ]
  },
  {
   "cell_type": "code",
   "execution_count": null,
   "metadata": {
    "id": "cclmNqONr7IY"
   },
   "outputs": [],
   "source": [
    "#performing the prediction and prediction_proba on this given test_data.\n",
    "\n",
    "predictions=predictor.predict(new_test)\n",
    "prediction_prob=predictor.predict_proba(new_test)"
   ]
  },
  {
   "cell_type": "code",
   "execution_count": null,
   "metadata": {
    "id": "6f1cdtVxr7Ld"
   },
   "outputs": [],
   "source": [
    "#this obtained result will be stored in a csv format namely predictions.csv\n",
    "\n",
    "results = new_test.copy()\n",
    "results['predicted_class'] = predictions\n",
    "\n",
    "# Save the results to a CSV file\n",
    "results.to_csv('predictions.csv', index=False)"
   ]
  },
  {
   "cell_type": "markdown",
   "metadata": {
    "id": "eRUCRZTrBrAs"
   },
   "source": [
    "implementing the grid search using lightgbmxt"
   ]
  },
  {
   "cell_type": "code",
   "execution_count": 6,
   "metadata": {
    "id": "yuQ5kUBfyx6F"
   },
   "outputs": [
    {
     "name": "stdout",
     "output_type": "stream",
     "text": [
      "Fitting 5 folds for each of 108 candidates, totalling 540 fits\n",
      "[LightGBM] [Warning] Categorical features with more bins than the configured maximum bin number found.\n",
      "[LightGBM] [Warning] For categorical features, max_bin and max_bin_by_feature may be ignored with a large number of categories.\n",
      "[LightGBM] [Info] Number of positive: 1364404, number of negative: 1129152\n",
      "[LightGBM] [Info] Auto-choosing row-wise multi-threading, the overhead of testing was 0.059487 seconds.\n",
      "You can set `force_row_wise=true` to remove the overhead.\n",
      "And if memory is not enough, you can set `force_col_wise=true`.\n",
      "[LightGBM] [Info] Total Bins 2404\n",
      "[LightGBM] [Info] Number of data points in the train set: 2493556, number of used features: 20\n",
      "[LightGBM] [Info] [binary:BoostFromScore]: pavg=0.547172 -> initscore=0.189251\n",
      "[LightGBM] [Info] Start training from score 0.189251\n",
      "              precision    recall  f1-score   support\n",
      "\n",
      "           e       0.99      0.99      0.99    282397\n",
      "           p       0.99      0.99      0.99    340992\n",
      "\n",
      "    accuracy                           0.99    623389\n",
      "   macro avg       0.99      0.99      0.99    623389\n",
      "weighted avg       0.99      0.99      0.99    623389\n",
      "\n",
      "Best parameters found:  {'learning_rate': 0.1, 'max_depth': 10, 'n_estimators': 300, 'num_leaves': 127}\n"
     ]
    }
   ],
   "source": [
    "#importing all the libraries required for this task.\n",
    "\n",
    "from sklearn.model_selection import GridSearchCV\n",
    "from sklearn.metrics import classification_report\n",
    "import lightgbm as lgb\n",
    "\n",
    "\n",
    "# Specify the target column and features\n",
    "target_column = 'class'\n",
    "X = features\n",
    "y = labels\n",
    "\n",
    "# Convert categorical columns to categorical dtype if needed\n",
    "categorical_features = [\n",
    "    'cap-diameter','cap-shape', 'cap-surface', 'cap-color', 'does-bruise-or-bleed',\n",
    "    'gill-attachment', 'gill-spacing', 'gill-color', 'stem-root',\n",
    "    'stem-surface', 'stem-color', 'veil-type', 'veil-color',\n",
    "    'has-ring', 'ring-type', 'spore-print-color', 'habitat', 'season'\n",
    "]\n",
    "\n",
    "X[categorical_features] = X[categorical_features].astype('category')\n",
    "\n",
    "# Train-test split\n",
    "X_train, X_test, y_train, y_test = train_test_split(X, y, test_size=0.2, random_state=42)\n",
    "\n",
    "# Define the parameter grid\n",
    "param_grid = {\n",
    "    'num_leaves': [31, 63, 127],\n",
    "    'learning_rate': [0.01, 0.05, 0.1],\n",
    "    'n_estimators': [100, 200, 300],\n",
    "    'max_depth': [-1, 10, 20, 30]\n",
    "}\n",
    "\n",
    "# Create a LightGBM classifier\n",
    "lgbm = lgb.LGBMClassifier()\n",
    "\n",
    "# Set up GridSearchCV\n",
    "grid_search = GridSearchCV(\n",
    "    estimator=lgbm,\n",
    "    param_grid=param_grid,\n",
    "    scoring='accuracy',  # Use appropriate scoring metric\n",
    "    cv=5,  # Number of cross-validation folds\n",
    "    n_jobs=-1,  # Use all available cores\n",
    "    verbose=1  # Verbosity level\n",
    ")\n",
    "\n",
    "# Fit GridSearchCV\n",
    "grid_search.fit(X_train, y_train)\n",
    "\n",
    "# Get the best model\n",
    "best_model = grid_search.best_estimator_\n",
    "\n",
    "# Predict on the test set\n",
    "y_pred = best_model.predict(X_test)\n",
    "\n",
    "# Print the classification report\n",
    "print(classification_report(y_test, y_pred))\n",
    "\n",
    "# Print best parameters\n",
    "print(\"Best parameters found: \", grid_search.best_params_)\n"
   ]
  },
  {
   "cell_type": "markdown",
   "metadata": {},
   "source": [
    "#### implementing best model over test dataset\n"
   ]
  },
  {
   "cell_type": "code",
   "execution_count": 22,
   "metadata": {
    "scrolled": true
   },
   "outputs": [
    {
     "name": "stdout",
     "output_type": "stream",
     "text": [
      "[LightGBM] [Warning] Categorical features with more bins than the configured maximum bin number found.\n",
      "[LightGBM] [Warning] For categorical features, max_bin and max_bin_by_feature may be ignored with a large number of categories.\n",
      "[LightGBM] [Info] Number of positive: 1364404, number of negative: 1129152\n",
      "[LightGBM] [Info] Auto-choosing row-wise multi-threading, the overhead of testing was 0.071295 seconds.\n",
      "You can set `force_row_wise=true` to remove the overhead.\n",
      "And if memory is not enough, you can set `force_col_wise=true`.\n",
      "[LightGBM] [Info] Total Bins 6482\n",
      "[LightGBM] [Info] Number of data points in the train set: 2493556, number of used features: 20\n",
      "[LightGBM] [Info] [binary:BoostFromScore]: pavg=0.547172 -> initscore=0.189251\n",
      "[LightGBM] [Info] Start training from score 0.189251\n",
      "Training until validation scores don't improve for 10 rounds\n",
      "[LightGBM] [Warning] No further splits with positive gain, best gain: -inf\n",
      "[LightGBM] [Warning] No further splits with positive gain, best gain: -inf\n",
      "[LightGBM] [Warning] No further splits with positive gain, best gain: -inf\n",
      "[LightGBM] [Warning] No further splits with positive gain, best gain: -inf\n",
      "[LightGBM] [Warning] No further splits with positive gain, best gain: -inf\n",
      "[LightGBM] [Warning] No further splits with positive gain, best gain: -inf\n",
      "[LightGBM] [Warning] No further splits with positive gain, best gain: -inf\n",
      "[LightGBM] [Warning] No further splits with positive gain, best gain: -inf\n",
      "[LightGBM] [Warning] No further splits with positive gain, best gain: -inf\n",
      "[LightGBM] [Warning] No further splits with positive gain, best gain: -inf\n",
      "[LightGBM] [Warning] No further splits with positive gain, best gain: -inf\n",
      "[LightGBM] [Warning] No further splits with positive gain, best gain: -inf\n",
      "[LightGBM] [Warning] No further splits with positive gain, best gain: -inf\n",
      "[LightGBM] [Warning] No further splits with positive gain, best gain: -inf\n",
      "[LightGBM] [Warning] No further splits with positive gain, best gain: -inf\n",
      "[LightGBM] [Warning] No further splits with positive gain, best gain: -inf\n",
      "[LightGBM] [Warning] No further splits with positive gain, best gain: -inf\n",
      "[LightGBM] [Warning] No further splits with positive gain, best gain: -inf\n",
      "[LightGBM] [Warning] No further splits with positive gain, best gain: -inf\n",
      "[LightGBM] [Warning] No further splits with positive gain, best gain: -inf\n",
      "[LightGBM] [Warning] No further splits with positive gain, best gain: -inf\n",
      "[LightGBM] [Warning] No further splits with positive gain, best gain: -inf\n",
      "[LightGBM] [Warning] No further splits with positive gain, best gain: -inf\n",
      "[LightGBM] [Warning] No further splits with positive gain, best gain: -inf\n",
      "[LightGBM] [Warning] No further splits with positive gain, best gain: -inf\n",
      "[LightGBM] [Warning] No further splits with positive gain, best gain: -inf\n",
      "[LightGBM] [Warning] No further splits with positive gain, best gain: -inf\n",
      "[LightGBM] [Warning] No further splits with positive gain, best gain: -inf\n",
      "[LightGBM] [Warning] No further splits with positive gain, best gain: -inf\n",
      "[LightGBM] [Warning] No further splits with positive gain, best gain: -inf\n",
      "[LightGBM] [Warning] No further splits with positive gain, best gain: -inf\n",
      "[LightGBM] [Warning] No further splits with positive gain, best gain: -inf\n",
      "[LightGBM] [Warning] No further splits with positive gain, best gain: -inf\n",
      "[LightGBM] [Warning] No further splits with positive gain, best gain: -inf\n",
      "[LightGBM] [Warning] No further splits with positive gain, best gain: -inf\n",
      "[LightGBM] [Warning] No further splits with positive gain, best gain: -inf\n",
      "[LightGBM] [Warning] No further splits with positive gain, best gain: -inf\n",
      "[LightGBM] [Warning] No further splits with positive gain, best gain: -inf\n",
      "[LightGBM] [Warning] No further splits with positive gain, best gain: -inf\n",
      "[LightGBM] [Warning] No further splits with positive gain, best gain: -inf\n",
      "[LightGBM] [Warning] No further splits with positive gain, best gain: -inf\n",
      "[LightGBM] [Warning] No further splits with positive gain, best gain: -inf\n",
      "[LightGBM] [Warning] No further splits with positive gain, best gain: -inf\n",
      "[LightGBM] [Warning] No further splits with positive gain, best gain: -inf\n",
      "[LightGBM] [Warning] No further splits with positive gain, best gain: -inf\n",
      "[LightGBM] [Warning] No further splits with positive gain, best gain: -inf\n",
      "[LightGBM] [Warning] No further splits with positive gain, best gain: -inf\n",
      "[LightGBM] [Warning] No further splits with positive gain, best gain: -inf\n",
      "[LightGBM] [Warning] No further splits with positive gain, best gain: -inf\n",
      "[LightGBM] [Warning] No further splits with positive gain, best gain: -inf\n",
      "[LightGBM] [Warning] No further splits with positive gain, best gain: -inf\n",
      "[LightGBM] [Warning] No further splits with positive gain, best gain: -inf\n",
      "[LightGBM] [Warning] No further splits with positive gain, best gain: -inf\n",
      "[LightGBM] [Warning] No further splits with positive gain, best gain: -inf\n",
      "[LightGBM] [Warning] No further splits with positive gain, best gain: -inf\n",
      "[LightGBM] [Warning] No further splits with positive gain, best gain: -inf\n",
      "[LightGBM] [Warning] No further splits with positive gain, best gain: -inf\n",
      "[LightGBM] [Warning] No further splits with positive gain, best gain: -inf\n",
      "[LightGBM] [Warning] No further splits with positive gain, best gain: -inf\n",
      "[LightGBM] [Warning] No further splits with positive gain, best gain: -inf\n",
      "[LightGBM] [Warning] No further splits with positive gain, best gain: -inf\n",
      "[LightGBM] [Warning] No further splits with positive gain, best gain: -inf\n",
      "[LightGBM] [Warning] No further splits with positive gain, best gain: -inf\n",
      "[LightGBM] [Warning] No further splits with positive gain, best gain: -inf\n",
      "[LightGBM] [Warning] No further splits with positive gain, best gain: -inf\n",
      "[LightGBM] [Warning] No further splits with positive gain, best gain: -inf\n",
      "[LightGBM] [Warning] No further splits with positive gain, best gain: -inf\n",
      "[LightGBM] [Warning] No further splits with positive gain, best gain: -inf\n",
      "[LightGBM] [Warning] No further splits with positive gain, best gain: -inf\n",
      "[LightGBM] [Warning] No further splits with positive gain, best gain: -inf\n",
      "[LightGBM] [Warning] No further splits with positive gain, best gain: -inf\n",
      "[LightGBM] [Warning] No further splits with positive gain, best gain: -inf\n",
      "[LightGBM] [Warning] No further splits with positive gain, best gain: -inf\n",
      "[LightGBM] [Warning] No further splits with positive gain, best gain: -inf\n",
      "[LightGBM] [Warning] No further splits with positive gain, best gain: -inf\n",
      "[LightGBM] [Warning] No further splits with positive gain, best gain: -inf\n",
      "[LightGBM] [Warning] No further splits with positive gain, best gain: -inf\n",
      "[LightGBM] [Warning] No further splits with positive gain, best gain: -inf\n",
      "[LightGBM] [Warning] No further splits with positive gain, best gain: -inf\n",
      "Early stopping, best iteration is:\n",
      "[264]\tvalid_0's binary_logloss: 0.0444543\n",
      "Accuracy: 0.9896\n"
     ]
    }
   ],
   "source": [
    "from lightgbm import LGBMClassifier, early_stopping\n",
    "#import lightgbm as LGBMClassifier\n",
    "import pandas as pd\n",
    "from sklearn.model_selection import train_test_split\n",
    "from sklearn.metrics import accuracy_score\n",
    "\n",
    "# Specify the target column and features\n",
    "target_column = 'class'\n",
    "X = features\n",
    "y = labels\n",
    "\n",
    "# Convert categorical columns to categorical dtype if needed\n",
    "categorical_features = [\n",
    "    'cap-diameter','cap-shape', 'cap-surface', 'cap-color', 'does-bruise-or-bleed',\n",
    "    'gill-attachment', 'gill-spacing', 'gill-color', 'stem-height','stem-width','stem-root',\n",
    "    'stem-surface', 'stem-color', 'veil-type', 'veil-color',\n",
    "    'has-ring', 'ring-type', 'spore-print-color', 'habitat', 'season'\n",
    "]\n",
    "\n",
    "X[categorical_features] = X[categorical_features].astype('category')\n",
    "\n",
    "# Train-test split\n",
    "X_train, X_test, y_train, y_test = train_test_split(X, y, test_size=0.2, random_state=42)\n",
    "\n",
    "# Create and train the model\n",
    "modelings = LGBMClassifier(\n",
    "    learning_rate=0.1,\n",
    "    max_depth=10,\n",
    "    n_estimators=300,\n",
    "    num_leaves=127,\n",
    "    objective='binary'  # or 'multiclass'\n",
    ")\n",
    " \n",
    "    \n",
    "modelings.fit(X_train, y_train, eval_set=[(X_test, y_test)], callbacks=[early_stopping(stopping_rounds=10)])\n",
    "\n",
    "# Make predictions\n",
    "y_pred = modelings.predict(X_test)\n",
    "\n",
    "# Evaluate the model\n",
    "accuracy = accuracy_score(y_test, y_pred)\n",
    "print(f'Accuracy: {accuracy:.4f}')\n",
    "\n"
   ]
  },
  {
   "cell_type": "code",
   "execution_count": 32,
   "metadata": {},
   "outputs": [
    {
     "name": "stdout",
     "output_type": "stream",
     "text": [
      "<class 'pandas.core.frame.DataFrame'>\n",
      "RangeIndex: 2077964 entries, 0 to 2077963\n",
      "Data columns (total 20 columns):\n",
      " #   Column                Dtype  \n",
      "---  ------                -----  \n",
      " 0   cap-diameter          float64\n",
      " 1   cap-shape             object \n",
      " 2   cap-surface           object \n",
      " 3   cap-color             object \n",
      " 4   does-bruise-or-bleed  object \n",
      " 5   gill-attachment       object \n",
      " 6   gill-spacing          object \n",
      " 7   gill-color            object \n",
      " 8   stem-height           float64\n",
      " 9   stem-width            float64\n",
      " 10  stem-root             object \n",
      " 11  stem-surface          object \n",
      " 12  stem-color            object \n",
      " 13  veil-type             object \n",
      " 14  veil-color            object \n",
      " 15  has-ring              object \n",
      " 16  ring-type             object \n",
      " 17  spore-print-color     object \n",
      " 18  habitat               object \n",
      " 19  season                object \n",
      "dtypes: float64(3), object(17)\n",
      "memory usage: 317.1+ MB\n"
     ]
    }
   ],
   "source": [
    "new_test.info()"
   ]
  },
  {
   "cell_type": "code",
   "execution_count": 36,
   "metadata": {
    "id": "Usx9Gvlpz-sM"
   },
   "outputs": [
    {
     "name": "stdout",
     "output_type": "stream",
     "text": [
      "Submission file created: class_submission.csv\n"
     ]
    }
   ],
   "source": [
    "# Ensure columns are in the same order and with the same names\n",
    "new_test = new_test[X_train.columns]\n",
    "\n",
    "# Match the categorical feature categories\n",
    "for col in categorical_features:\n",
    "    new_test[col] = pd.Categorical(new_test[col], categories=X_train[col].cat.categories)\n",
    "\n",
    "#using best_model on the given testing_dataset\n",
    "\n",
    "y_lightgbm_pred=modelings.predict(new_test)\n",
    "\n",
    "output = pd.DataFrame({'id': test_data['id'], 'class': y_lightgbm_pred})\n",
    "output.to_csv('class_submission.csv', index=False)\n",
    "print(\"Submission file created: class_submission.csv\")"
   ]
  },
  {
   "cell_type": "code",
   "execution_count": 38,
   "metadata": {
    "id": "qCr4Y_CR1vWF"
   },
   "outputs": [
    {
     "name": "stdout",
     "output_type": "stream",
     "text": [
      "Differences between the two CSV files:\n",
      "        class      \n",
      "         self other\n",
      "1           e     p\n",
      "2           e     p\n",
      "3           e     p\n",
      "7           e     p\n",
      "8           e     p\n",
      "...       ...   ...\n",
      "2077953     e     p\n",
      "2077957     e     p\n",
      "2077959     e     p\n",
      "2077960     e     p\n",
      "2077961     e     p\n",
      "\n",
      "[1132475 rows x 2 columns]\n"
     ]
    }
   ],
   "source": [
    "#comparing the predicted file 'class_submission.csv' with the sample file csv.\n",
    "#just to enlighten we are comparing above submission with the sample.\n",
    "\n",
    "\n",
    "# Load the CSV files into DataFrames\n",
    "df1 = pd.read_csv(\"C:\\\\Users\\\\adilh\\\\Projects\\\\3rd_project\\\\sample_submission.csv\")\n",
    "df2 = pd.read_csv('class_submission.csv')\n",
    "\n",
    "# Sort DataFrames by all columns to ensure rows are compared in the same order\n",
    "df1_sorted = df1.sort_values(by=list(df1.columns)).reset_index(drop=True)\n",
    "df2_sorted = df2.sort_values(by=list(df2.columns)).reset_index(drop=True)\n",
    "\n",
    "# Compare the DataFrames\n",
    "differences = df1_sorted.compare(df2_sorted)\n",
    "\n",
    "print(\"Differences between the two CSV files:\")\n",
    "print(differences)"
   ]
  }
 ],
 "metadata": {
  "colab": {
   "provenance": []
  },
  "kernelspec": {
   "display_name": "Python 3 (ipykernel)",
   "language": "python",
   "name": "python3"
  },
  "language_info": {
   "codemirror_mode": {
    "name": "ipython",
    "version": 3
   },
   "file_extension": ".py",
   "mimetype": "text/x-python",
   "name": "python",
   "nbconvert_exporter": "python",
   "pygments_lexer": "ipython3",
   "version": "3.11.4"
  }
 },
 "nbformat": 4,
 "nbformat_minor": 1
}
